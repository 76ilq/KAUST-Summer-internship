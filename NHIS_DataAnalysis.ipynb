{
  "cells": [
    {
      "cell_type": "markdown",
      "source": [
        "##Required Libraries\n"
      ],
      "metadata": {
        "id": "WxP4aDp68yyp"
      }
    },
    {
      "cell_type": "code",
      "execution_count": 1,
      "metadata": {
        "colab": {
          "base_uri": "https://localhost:8080/"
        },
        "collapsed": true,
        "id": "gWHS3QMSWbhD",
        "outputId": "f0435f29-6951-4297-acb6-6cc1214478fa"
      },
      "outputs": [
        {
          "output_type": "stream",
          "name": "stderr",
          "text": [
            "Installing package into ‘/usr/local/lib/R/site-library’\n",
            "(as ‘lib’ is unspecified)\n",
            "\n",
            "also installing the dependencies ‘minqa’, ‘numDeriv’, ‘mitools’, ‘RcppArmadillo’\n",
            "\n",
            "\n",
            "Installing package into ‘/usr/local/lib/R/site-library’\n",
            "(as ‘lib’ is unspecified)\n",
            "\n"
          ]
        }
      ],
      "source": [
        "# installing the library needed\n",
        "install.packages('survey')\n",
        "install.packages(\"srvyr\")"
      ]
    },
    {
      "cell_type": "code",
      "execution_count": 2,
      "metadata": {
        "collapsed": true,
        "id": "S_JW_1UgYIvZ",
        "colab": {
          "base_uri": "https://localhost:8080/"
        },
        "outputId": "0819c222-639f-4c19-d922-ddedd9ec723a"
      },
      "outputs": [
        {
          "output_type": "stream",
          "name": "stderr",
          "text": [
            "\n",
            "Attaching package: ‘dplyr’\n",
            "\n",
            "\n",
            "The following objects are masked from ‘package:stats’:\n",
            "\n",
            "    filter, lag\n",
            "\n",
            "\n",
            "The following objects are masked from ‘package:base’:\n",
            "\n",
            "    intersect, setdiff, setequal, union\n",
            "\n",
            "\n",
            "Loading required package: grid\n",
            "\n",
            "Loading required package: Matrix\n",
            "\n",
            "Loading required package: survival\n",
            "\n",
            "\n",
            "Attaching package: ‘survey’\n",
            "\n",
            "\n",
            "The following object is masked from ‘package:graphics’:\n",
            "\n",
            "    dotchart\n",
            "\n",
            "\n",
            "\n",
            "Attaching package: ‘srvyr’\n",
            "\n",
            "\n",
            "The following object is masked from ‘package:stats’:\n",
            "\n",
            "    filter\n",
            "\n",
            "\n"
          ]
        }
      ],
      "source": [
        "# Load the 'dplyr' package for data manipulation\n",
        "library(dplyr)\n",
        "\n",
        "# Load the 'survey' package for survey design and analysis\n",
        "library(survey)\n",
        "\n",
        "# Load the 'srvyr' package for survey data manipulation and analysis\n",
        "library(srvyr)\n",
        "\n",
        "# Load the 'ggplot2' package for data visualization\n",
        "library(ggplot2)\n"
      ]
    },
    {
      "cell_type": "markdown",
      "source": [
        "## Reading Data Files"
      ],
      "metadata": {
        "id": "tpNTHvku9C3i"
      }
    },
    {
      "cell_type": "code",
      "execution_count": 3,
      "metadata": {
        "id": "2b7Fc458YUgs"
      },
      "outputs": [],
      "source": [
        "# Read the data files\n",
        "adult19 <- read.csv(\"adult19.csv\")\n",
        "adult20 <- read.csv(\"adult20.csv\")\n",
        "adult21 <- read.csv(\"adult21.csv\")\n",
        "\n",
        "# Adding the year colum\n",
        "adult19$year <- \"2019\"\n",
        "adult20$year <- \"2020\"\n",
        "adult21$year <- \"2021\""
      ]
    },
    {
      "cell_type": "markdown",
      "metadata": {
        "id": "NQ5Sfw6fa6Pb"
      },
      "source": [
        "### Exploring each year sample size"
      ]
    },
    {
      "cell_type": "code",
      "execution_count": 4,
      "metadata": {
        "colab": {
          "base_uri": "https://localhost:8080/"
        },
        "id": "x32rsniOa5Q9",
        "outputId": "633454eb-a1ef-4b02-a836-370ee1ddcb53"
      },
      "outputs": [
        {
          "output_type": "stream",
          "name": "stdout",
          "text": [
            "[1] 31997   535\n",
            "[1] 31568   618\n",
            "[1] 29482   623\n"
          ]
        }
      ],
      "source": [
        "print(dim(adult19))\n",
        "print(dim(adult20))\n",
        "print(dim(adult21))"
      ]
    },
    {
      "cell_type": "markdown",
      "source": [
        "### Exploring each year population size"
      ],
      "metadata": {
        "id": "2PTRvkm_ZvZo"
      }
    },
    {
      "cell_type": "code",
      "execution_count": 5,
      "metadata": {
        "colab": {
          "base_uri": "https://localhost:8080/"
        },
        "id": "rZJgDBZ6-LwZ",
        "outputId": "a6087b61-5940-4365-bb65-07d8c1b97494"
      },
      "outputs": [
        {
          "output_type": "stream",
          "name": "stdout",
          "text": [
            "[1] 250916569\n",
            "[1] 252052044\n",
            "[1] 253157754\n"
          ]
        }
      ],
      "source": [
        "print(sum(adult19$WTFA_A))\n",
        "print(sum(adult20$WTFA_A))\n",
        "print(sum(adult21$WTFA_A))"
      ]
    },
    {
      "cell_type": "markdown",
      "source": [
        "#Data Preparation\n"
      ],
      "metadata": {
        "id": "MWk_Xq6E1dAD"
      }
    },
    {
      "cell_type": "markdown",
      "source": [
        "##Selecting and Renaming Columns\n",
        "We begin by selecting only the columns of interest from the datasets for the years 2019, 2020, and 2021.\n",
        "\n",
        "After selecting the relevant columns, we rename them for consistency and clarity across the three datasets."
      ],
      "metadata": {
        "id": "H-p_Ysdr-CNi"
      }
    },
    {
      "cell_type": "code",
      "execution_count": 6,
      "metadata": {
        "id": "yrZXvSdvb0Jh"
      },
      "outputs": [],
      "source": [
        "# column we intrested in\n",
        "columns <- c('HHX','DEPEV_A','PAIWKLM3M_A','ANXEV_A','PAIFRQ3M_A','AGEP_A','SOCERRNDS_A','SOCSCLPAR_A','SOCWRKLIM_A','SEX_A','INTV_QRT','WTFA_A','PSTRAT','PPSU','year','HISPALLP_A','HOSPONGT_A','PHSTAT_A','MARSTAT_A','EMPLSTWORK_A')\n",
        "adult19_new <- adult19[,columns]\n",
        "adult20_new <- adult20[,columns]\n",
        "\n",
        "columns <- c('HHX','DEPEV_A','PAIWKLM3M_A','ANXEV_A','PAIFRQ3M_A','AGEP_A','SOCERRNDS_A','SOCSCLPAR_A','SOCWRKLIM_A','SEX_A','INTV_QRT','WTFA_A','PSTRAT','PPSU','year','HISPALLP_A','HOSPONGT_A','PHSTAT_A','MARSTAT_A','EMPLSTWOR1_A')\n",
        "adult21_new <- adult21[,columns]\n",
        "\n",
        "# rename the column name\n",
        "columns <- c('HHX','DEP','IMPACT_P','ANX','PAIN','AGE','ERRANED','SOCIAL','WORK','SEX','QRT','WWIGHT','STRAT','PSU','year','Race','Overnight','Health','Marital','Employment')\n",
        "names(adult19_new) <- columns\n",
        "names(adult20_new) <- columns\n",
        "names(adult21_new) <- columns\n"
      ]
    },
    {
      "cell_type": "markdown",
      "source": [
        "## Data Combination and Initial Cleaning\n",
        "To begin the cleaning process, we first combine the datasets for the years 2019, 2020, and 2021 into a single data frame, `nhis_combind`. This allows us to perform subsequent analyses and transformations on the combined data."
      ],
      "metadata": {
        "id": "AaLu6REL01em"
      }
    },
    {
      "cell_type": "code",
      "execution_count": 7,
      "metadata": {
        "colab": {
          "base_uri": "https://localhost:8080/",
          "height": 34
        },
        "id": "p8l6U66QaXUq",
        "outputId": "02bc5403-2c9f-46d2-b5bf-8c032ecc59fc"
      },
      "outputs": [
        {
          "output_type": "display_data",
          "data": {
            "text/html": [
              "<style>\n",
              ".list-inline {list-style: none; margin:0; padding: 0}\n",
              ".list-inline>li {display: inline-block}\n",
              ".list-inline>li:not(:last-child)::after {content: \"\\00b7\"; padding: 0 .5ex}\n",
              "</style>\n",
              "<ol class=list-inline><li>93047</li><li>20</li></ol>\n"
            ],
            "text/markdown": "1. 93047\n2. 20\n\n\n",
            "text/latex": "\\begin{enumerate*}\n\\item 93047\n\\item 20\n\\end{enumerate*}\n",
            "text/plain": [
              "[1] 93047    20"
            ]
          },
          "metadata": {}
        }
      ],
      "source": [
        "# Combine datasets from 2019, 2020, and 2021\n",
        "nhis_combind <- bind_rows(adult19_new,adult20_new ,adult21_new)\n",
        "\n",
        "# Display the dimensions of the combined dataset\n",
        "dim(nhis_combind)"
      ]
    },
    {
      "cell_type": "markdown",
      "metadata": {
        "id": "b06LLIIzY8Tl"
      },
      "source": [
        "## Chronic Pain Classification"
      ]
    },
    {
      "cell_type": "markdown",
      "source": [
        "**Step 1:** Analyze the Distribution of Chronic Pain First, we explore the distribution of the `PAIN` variable in the combined dataset to understand the prevalence of different pain categories.\n",
        "\n",
        "**Step 2:** Create a Binary Label for Chronic Pain We then classify the PAIN variable into a binary label (CP_classified). This variable will indicate whether a participant is experiencing chronic pain based on their responses.\n",
        "\n",
        "Specifically:\n",
        "- A value of TRUE indicates chronic pain (PAIN values of 3 or 4).\n",
        "- A value of FALSE indicates no chronic pain (PAIN values of 1 or 2).\n",
        "- Missing data (PAIN values of 7, 8, 9) are set to NA.\n",
        "\n",
        "**Step 3:** Examine the New Binary Classification\n",
        "Finally, we check the distribution of the newly created CP_classified variable and identify any missing values."
      ],
      "metadata": {
        "id": "F5YxFoYvu-_2"
      }
    },
    {
      "cell_type": "code",
      "execution_count": 8,
      "metadata": {
        "colab": {
          "base_uri": "https://localhost:8080/",
          "height": 143
        },
        "id": "-XPd108zZTt6",
        "outputId": "0d8d7676-a3cd-478f-e6a1-981eb2554ca7"
      },
      "outputs": [
        {
          "output_type": "display_data",
          "data": {
            "text/plain": [
              "\n",
              "    1     2     3     4     7     8     9 \n",
              "33765 36155  7823 13446    85  1554    62 "
            ]
          },
          "metadata": {}
        },
        {
          "output_type": "display_data",
          "data": {
            "text/plain": [
              "\n",
              "FALSE  TRUE \n",
              "69920 21269 "
            ]
          },
          "metadata": {}
        },
        {
          "output_type": "display_data",
          "data": {
            "text/html": [
              "1858"
            ],
            "text/markdown": "1858",
            "text/latex": "1858",
            "text/plain": [
              "[1] 1858"
            ]
          },
          "metadata": {}
        }
      ],
      "source": [
        "# following the code book we will start by chronic pain\n",
        "table(nhis_combind$PAIN)\n",
        "# we will make new binary label to classify this variable\n",
        "nhis_combind$CP_classified = case_when(\n",
        "  nhis_combind$PAIN %in% c(1,2) ~FALSE,\n",
        "  nhis_combind$PAIN %in% c(3,4) ~TRUE,\n",
        "  nhis_combind$PAIN %in% c(7,8,9) ~NA,\n",
        "  )\n",
        "table(nhis_combind$CP_classified)\n",
        "sum(is.na(nhis_combind$CP_classified))"
      ]
    },
    {
      "cell_type": "markdown",
      "source": [
        "## A/D Classification"
      ],
      "metadata": {
        "id": "oN4le3y0wOY8"
      }
    },
    {
      "cell_type": "markdown",
      "source": [
        "**Step 1:** Analyze the Distribution of Anxiety and Depression\n",
        "We start by examining the distribution of the `ANX` (Anxiety) and `DEP` (Depression) variables in the combined dataset.\n",
        "\n",
        "**Step 2:** Create Binary Labels for Depression and Anxiety\n",
        "Next, we classify the ANX and DEP variables into binary labels (AN_classified and DP_classified). These variables indicate whether a participant has been diagnosed with anxiety or depression:\n",
        "\n",
        "- A value of TRUE indicates a diagnosis (ANX or DEP values of 1).\n",
        "- A value of FALSE indicates no diagnosis (ANX or DEP values of 2).\n",
        "- Missing data (ANX or DEP values of 7, 8, 9) are set to NA.\n",
        "\n",
        "Additionally, we create a new variable AorD, which indicates whether a participant has either anxiety or depression (or both).\n",
        "\n",
        "**Step 3:** Examine the New Classifications\n",
        "We then check the distribution of the new AorD variable to see how many participants have either anxiety or depression. We also check for any missing values in the newly created DP_classified, AN_classified, and AorD variables."
      ],
      "metadata": {
        "id": "yIqYUNbDwbsp"
      }
    },
    {
      "cell_type": "code",
      "execution_count": 9,
      "metadata": {
        "colab": {
          "base_uri": "https://localhost:8080/",
          "height": 232
        },
        "id": "8BMTbdkNdWIO",
        "outputId": "a8107de3-352c-4573-ec70-5c2ca0122b43"
      },
      "outputs": [
        {
          "output_type": "display_data",
          "data": {
            "text/plain": [
              "\n",
              "    1     2     7     9 \n",
              "14505 78389    87    66 "
            ]
          },
          "metadata": {}
        },
        {
          "output_type": "display_data",
          "data": {
            "text/plain": [
              "\n",
              "    1     2     7     9 \n",
              "16317 76559    91    80 "
            ]
          },
          "metadata": {}
        },
        {
          "output_type": "display_data",
          "data": {
            "text/plain": [
              "\n",
              "FALSE  TRUE \n",
              "71895 20979 "
            ]
          },
          "metadata": {}
        },
        {
          "output_type": "display_data",
          "data": {
            "text/html": [
              "173"
            ],
            "text/markdown": "173",
            "text/latex": "173",
            "text/plain": [
              "[1] 173"
            ]
          },
          "metadata": {}
        },
        {
          "output_type": "display_data",
          "data": {
            "text/html": [
              "171"
            ],
            "text/markdown": "171",
            "text/latex": "171",
            "text/plain": [
              "[1] 171"
            ]
          },
          "metadata": {}
        },
        {
          "output_type": "display_data",
          "data": {
            "text/html": [
              "153"
            ],
            "text/markdown": "153",
            "text/latex": "153",
            "text/plain": [
              "[1] 153"
            ]
          },
          "metadata": {}
        }
      ],
      "source": [
        "# following the code book we will classify the Depression and Anxitey\n",
        "table(nhis_combind$ANX)\n",
        "table(nhis_combind$DEP)\n",
        "nhis_combind <- nhis_combind %>%\n",
        "    mutate(\n",
        "      DP_classified = case_when( DEP == 1 ~TRUE,\n",
        "                                 DEP == 2 ~FALSE,\n",
        "                                 DEP %in% c(7,8,9) ~NA),\n",
        "      AN_classified = case_when( ANX == 1 ~TRUE,\n",
        "                                 ANX == 2 ~FALSE,\n",
        "                                 ANX %in% c(7,8,9) ~NA),\n",
        "      AorD = ( DP_classified | AN_classified) )\n",
        "\n",
        "table(nhis_combind$AorD)\n",
        "\n",
        "sum(is.na(nhis_combind$AorD))\n",
        "sum(is.na(nhis_combind$DP_classified))\n",
        "sum(is.na(nhis_combind$AN_classified))"
      ]
    },
    {
      "cell_type": "markdown",
      "source": [
        "## Other Variables Classifying\n",
        "**Step 1:** Replacing Missing Values\n",
        "We begin by replacing specific missing values (coded as 7, 8, or 9) with `NA` across several variables (`ERRANED`, `SOCIAL`, `WORK`, `SEX`, `IMPACT_P`, `Employment`, `Health`, and `Overnight`).\n",
        "\n",
        "**Step 2:** Defining Key Conditions and Classifications\n",
        "We then define several key conditions and classifications:\n",
        "\n",
        "- Condition: Categorizes participants into four groups:\n",
        "##### 1. \"Both\": Participants with both chronic pain and anxiety/depression.\n",
        "##### 2. \"Chronic Pain Only\": Participants with chronic pain only.\n",
        "##### 3. \"A/D Only\": Participants with anxiety/depression only.\n",
        "##### 4. \"Neither\": Participants with neither condition.\n",
        "\n",
        "- Co-occurring: A boolean variable indicating if both chronic pain and anxiety/depression are present.\n",
        "\n",
        "- High_CP: Classifies chronic pain impact as either \"High Impact\" or \"Low Impact\" based on IMPACT_P.\n",
        "\n",
        "- erraned, social, work: Boolean variables derived from ERRANED, SOCIAL, and WORK, indicating if these aspects were impacted.\n",
        "\n",
        "- SEX: Recodes the SEX variable into \"MALE\" or \"FEMALE\".\n",
        "\n",
        "- Race: Categorizes race into specific groups, such as \"Hispanic\", \"White, NH\", and \"Black/African American, NH\".\n",
        "\n",
        "- Marital: Classifies marital status into categories such as \"Married\", \"Widowed\", \"Divorced or separated\", etc.\n",
        "\n",
        "- Employment: Recodes employment status into categories such as \"Employed\" or \"NE, worked previously\".\n",
        "\n",
        "- Overnight: A boolean variable indicating if participants spent a night in a hospital.\n",
        "\n",
        "- Health: Classifies health status into \"Good\" or \"Poor\" based on the participant's self-reported health.\n",
        "\n",
        "**Step 3:** Categorizing Age into Groups\n",
        "Lastly, we categorize participants' ages into three groups: \"18-44\", \"45-64\", and \"65+\". We also handle any missing age data by setting values of 97 and above to NA."
      ],
      "metadata": {
        "id": "2-InRyAXxTQN"
      }
    },
    {
      "cell_type": "code",
      "execution_count": 10,
      "metadata": {
        "id": "6IxMNBkdebVM"
      },
      "outputs": [],
      "source": [
        "nhis_combind <- nhis_combind %>%\n",
        "      mutate(\n",
        "      # Replace missing values in specified variables\n",
        "      across(c(ERRANED,SOCIAL, WORK,SEX,IMPACT_P,Employment,Health,Overnight),\n",
        "       ~replace(., . == 7 |     . == 8 | . == 9, NA))\n",
        "       )%>%\n",
        "\n",
        "      # Define key conditions and classifications\n",
        "        mutate(\n",
        "          Condition = case_when(\n",
        "            CP_classified & AorD ~\"Both\",\n",
        "            CP_classified ~\"Chronic Pain Only\",\n",
        "            AorD ~\"A/D Only\",\n",
        "            .default = \"Neither\"\n",
        "            ),\n",
        "\n",
        "          cooccuring = if_else(\n",
        "            CP_classified & AorD , TRUE,FALSE\n",
        "            ),\n",
        "\n",
        "          High_CP = case_when( IMPACT_P %in% c(3,4) ~ \"High Impact\",\n",
        "            IMPACT_P %in% c(1,2) ~\"Low Impact\"),\n",
        "\n",
        "          erraned = case_when(\n",
        "              ERRANED == 1 ~ FALSE,\n",
        "             ERRANED %in% c(2,3,4) ~ TRUE\n",
        "             ),\n",
        "\n",
        "          social = case_when(\n",
        "              SOCIAL == 1 ~ FALSE,\n",
        "             SOCIAL %in% c(2,3,4) ~ TRUE\n",
        "             ),\n",
        "\n",
        "          work = case_when(\n",
        "              WORK == 1 ~ TRUE,\n",
        "             WORK == 2 ~ FALSE\n",
        "             ),\n",
        "\n",
        "          SEX = case_when(\n",
        "            SEX == 1 ~ \"MALE\",\n",
        "            SEX == 2 ~ \"FEMALE\"\n",
        "             ),\n",
        "\n",
        "          Race = case_when(\n",
        "            Race == 1~\"Hispanic\",\n",
        "            Race == 2~\"White, NH\",\n",
        "            Race == 3~\"Black/African America, NH\",\n",
        "            Race == 4~\"Asian, NH\",\n",
        "            Race == 5~\"AI/AN, NH\",\n",
        "            Race %in% c(6,7) ~\"Other single and multi race\",\n",
        "            Race %in% c(97,98,99) ~ NA\n",
        "          ),\n",
        "\n",
        "          Marital = case_when(\n",
        "            Marital %in% c(1,2,3) ~ \"Married\",\n",
        "            Marital == 4 ~ \"Widowed\",\n",
        "            Marital %in% c(5,6) ~ \"Divorced or separated\",\n",
        "            Marital == 7 ~ \"Never Married\",\n",
        "            Marital == 8 ~ \"Living with partner\",\n",
        "            Marital == 9 ~ NA\n",
        "          ),\n",
        "\n",
        "          Employment = case_when(\n",
        "            Employment == 1 ~ \"Emplyed\",\n",
        "            Employment %in% c(2,3) ~ \"NE, worked previously\",\n",
        "            Employment == 4 ~ \"NE, never worked\",\n",
        "          ),\n",
        "\n",
        "          Overnight = case_when(\n",
        "            Overnight == 1 ~TRUE,\n",
        "            Overnight == 2 ~FALSE\n",
        "          ),\n",
        "\n",
        "          Health = case_when(\n",
        "            Health %in% c(1,2,3) ~\"Good\",\n",
        "            Health %in% c(4,5) ~\"Poor\"\n",
        "          )\n",
        "\n",
        "        )\n",
        "\n",
        "  # Handle missing age data and categorize age into groups\n",
        "  nhis_combind$AGE[nhis_combind$AGE >= 97 ] <- NA\n",
        "  nhis_combind$age_group <- cut(nhis_combind$AGE,\n",
        "                        breaks = c(18,44,64,Inf),\n",
        "                        labels = c(\"18-44\",\"45-64\",\"65+\"),\n",
        "                        right = FALSE)"
      ]
    },
    {
      "cell_type": "markdown",
      "metadata": {
        "id": "OKHOCJWkhZKZ"
      },
      "source": [
        "## Data Filtering and Summary Statistics\n",
        "To ensure the accuracy of our analysis, we filter the dataset to include only those observations where both the `CP_classified` and `AorD` variables are not missing.\n",
        "\n",
        "After filtering, we proceed to summarize the dataset by year to understand the distribution of our data across the three years of interest."
      ]
    },
    {
      "cell_type": "code",
      "execution_count": 11,
      "metadata": {
        "id": "w27mhb5HiGJv",
        "colab": {
          "base_uri": "https://localhost:8080/",
          "height": 104
        },
        "outputId": "be6c40cc-4eb2-4a53-8c03-104b5e2850f7"
      },
      "outputs": [
        {
          "output_type": "display_data",
          "data": {
            "text/html": [
              "91058"
            ],
            "text/markdown": "91058",
            "text/latex": "91058",
            "text/plain": [
              "[1] 91058"
            ]
          },
          "metadata": {}
        },
        {
          "output_type": "display_data",
          "data": {
            "text/html": [
              "31260"
            ],
            "text/markdown": "31260",
            "text/latex": "31260",
            "text/plain": [
              "[1] 31260"
            ]
          },
          "metadata": {}
        },
        {
          "output_type": "display_data",
          "data": {
            "text/html": [
              "31081"
            ],
            "text/markdown": "31081",
            "text/latex": "31081",
            "text/plain": [
              "[1] 31081"
            ]
          },
          "metadata": {}
        },
        {
          "output_type": "display_data",
          "data": {
            "text/html": [
              "28717"
            ],
            "text/markdown": "28717",
            "text/latex": "28717",
            "text/plain": [
              "[1] 28717"
            ]
          },
          "metadata": {}
        },
        {
          "output_type": "display_data",
          "data": {
            "text/html": [
              "246223121.024333"
            ],
            "text/markdown": "246223121.024333",
            "text/latex": "246223121.024333",
            "text/plain": [
              "[1] 246223121"
            ]
          },
          "metadata": {}
        }
      ],
      "source": [
        "# Count the number of non-missing observations for both CP_classified and AorD\n",
        "sum(!is.na(nhis_combind$CP_classified) & !is.na(nhis_combind$AorD))\n",
        "\n",
        "# Subset the data to include only rows where CP_classified and AorD are not missing\n",
        "nhis_combind <- subset(nhis_combind, !is.na(CP_classified) & !is.na(AorD))\n",
        "\n",
        "# Summarize the number of observations for each year\n",
        "sum(nhis_combind$year==2019)\n",
        "sum(nhis_combind$year==2020)\n",
        "sum(nhis_combind$year==2021)\n",
        "\n",
        "# Calculate the total sum of the survey weights divided by 3\n",
        "sum(nhis_combind$WWIGHT/3)"
      ]
    },
    {
      "cell_type": "markdown",
      "metadata": {
        "id": "KjEDeF0Jirjg"
      },
      "source": [
        "## Adjusting Survey Weights\n",
        "\n",
        "Since we combined data from multiple years, we need to adjust the survey weights to account for the combined dataset. Following the NHIS guide in this part,the adjustment is done by dividing the original survey weights by the number of years (in this case, 3)."
      ]
    },
    {
      "cell_type": "code",
      "execution_count": 12,
      "metadata": {
        "id": "sSW4s-dYilHk"
      },
      "outputs": [],
      "source": [
        "# we need an adj weight because we have combind the data\n",
        "nhis_combind$adj_w <- nhis_combind$WWIGHT/3"
      ]
    },
    {
      "cell_type": "markdown",
      "source": [
        "## Creating the Survey Design Object\n",
        "To analyze the survey data properly, we define a survey design object using the `svydesign` function. This object incorporates the survey design features such as primary sampling units (PSU), strata, and weights, which are essential for accurate statistical analysis.\n"
      ],
      "metadata": {
        "id": "Hw6oycyI3YJz"
      }
    },
    {
      "cell_type": "code",
      "execution_count": 13,
      "metadata": {
        "id": "WE8JDjyfjUwH",
        "colab": {
          "base_uri": "https://localhost:8080/",
          "height": 613
        },
        "outputId": "92ae7529-2a50-4009-df32-ff1732e7d44f"
      },
      "outputs": [
        {
          "output_type": "display_data",
          "data": {
            "text/plain": [
              "Stratified 1 - level Cluster Sampling design (with replacement)\n",
              "With (656) clusters.\n",
              "svydesign(ids = ~PSU, strata = ~STRAT, weights = ~adj_w, data = nhis_combind, \n",
              "    nest = TRUE)\n",
              "Probabilities:\n",
              "     Min.   1st Qu.    Median      Mean   3rd Qu.      Max. \n",
              "2.465e-05 2.981e-04 4.493e-04 5.729e-04 7.239e-04 7.572e-03 \n",
              "Stratum Sizes: \n",
              "            100  101  102  103  104  105  106  107  108  109  110  111 112  113\n",
              "obs        1964 2222 1890 1549 1474 1769 2253 2507 2196 2225 1983 1656 532 2651\n",
              "design.PSU   16   18   14   11   10   13   16   20   14   16   15   10   4   18\n",
              "actual.PSU   16   18   14   11   10   13   16   20   14   16   15   10   4   18\n",
              "            114  115 116  117  118  119  120  121  122 123  124  125  126  127\n",
              "obs        1333 1792 695 2100 1916 2530 1489 1619 1902 918 1766 1411 1968 1395\n",
              "design.PSU    9   15   7   15   14   15   11   11   15   7   14   10   15   10\n",
              "actual.PSU    9   15   7   15   14   15   11   11   15   7   14   10   15   10\n",
              "           128  129  130  131  132  133  134  135  136  137  138  139  140  141\n",
              "obs        853 2486 1401 1797 1605 1778 1381 1632 1566 1812 1522 1217 2056 1510\n",
              "design.PSU   4   14   10   14   14   13    9   11   13   15   14    8   13   13\n",
              "actual.PSU   4   14   10   14   14   13    9   11   13   15   14    8   13   13\n",
              "            142  143  144  145  146  147  148  149  150  151\n",
              "obs        1345 2293 2020 1161 1276 2097 2146 1604 1567 3228\n",
              "design.PSU    9   13   16    8    9   13   16   14   11   19\n",
              "actual.PSU    9   13   16    8    9   13   16   14   11   19\n",
              "Data variables:\n",
              " [1] \"HHX\"           \"DEP\"           \"IMPACT_P\"      \"ANX\"          \n",
              " [5] \"PAIN\"          \"AGE\"           \"ERRANED\"       \"SOCIAL\"       \n",
              " [9] \"WORK\"          \"SEX\"           \"QRT\"           \"WWIGHT\"       \n",
              "[13] \"STRAT\"         \"PSU\"           \"year\"          \"Race\"         \n",
              "[17] \"Overnight\"     \"Health\"        \"Marital\"       \"Employment\"   \n",
              "[21] \"CP_classified\" \"DP_classified\" \"AN_classified\" \"AorD\"         \n",
              "[25] \"Condition\"     \"cooccuring\"    \"High_CP\"       \"erraned\"      \n",
              "[29] \"social\"        \"work\"          \"age_group\"     \"adj_w\"        "
            ]
          },
          "metadata": {}
        }
      ],
      "source": [
        "# Define the survey design object\n",
        "survey_design <- svydesign(ids = ~PSU,\n",
        "                           strata = ~STRAT,\n",
        "                           weights = ~adj_w,\n",
        "                           data = nhis_combind,\n",
        "                           nest = TRUE)\n",
        "\n",
        "# Generate and review the summary of the survey design object\n",
        "summary(survey_design)"
      ]
    },
    {
      "cell_type": "markdown",
      "source": [
        "## Calculating Prevalence of Chronic Pain and Anxiety/Depression\n",
        "To determine the prevalence of chronic pain and anxiety/depression, we use the `srvyr` package to calculate survey means and totals. The `Clopper-Pearson` method is used for confidence intervals, providing a reliable measure of uncertainty."
      ],
      "metadata": {
        "id": "mkS2kjfsAaGs"
      }
    },
    {
      "cell_type": "code",
      "source": [
        "# Define the survey design using srvyr\n",
        "srvyr_design <- as_survey_design(survey_design)\n",
        "\n",
        "# Calculate the survey mean with Clopper-Pearson confidence intervals\n",
        "CP <- srvyr_design %>%\n",
        "  summarise(\n",
        "    n = sum(CP_classified==TRUE),\n",
        "    mean = round(survey_mean(CP_classified, vartype = \"ci\", level = 0.95, proportion = TRUE, method = \"clopper-pearson\",na.rm = TRUE)*100, 2),\n",
        "    total = round(survey_total(CP_classified, vartype = \"ci\", level = 0.95, proportion = TRUE, method = \"clopper-pearson\",na.rm = TRUE)/1000000, 2),\n",
        "  )\n",
        "CP\n",
        "\n",
        "# Calculate the prevalence of anxiety/depression with Clopper-Pearson confidence intervals\n",
        "AD <- srvyr_design %>%\n",
        "  summarise(\n",
        "    n = sum(AorD==TRUE),\n",
        "    mean = round(survey_mean(AorD, vartype = \"ci\", level = 0.95, proportion = TRUE, method = \"clopper-pearson\",na.rm = TRUE)*100 , 2),\n",
        "    total = round(survey_total(AorD, vartype = \"ci\", level = 0.95, proportion = TRUE, method = \"clopper-pearson\",na.rm = TRUE)/1000000 ,2),\n",
        "  )\n",
        "AD"
      ],
      "metadata": {
        "colab": {
          "base_uri": "https://localhost:8080/",
          "height": 241
        },
        "id": "CivFwveAlEm1",
        "outputId": "b66f2016-b27c-4138-c31a-8a4c17445c91"
      },
      "execution_count": 14,
      "outputs": [
        {
          "output_type": "display_data",
          "data": {
            "text/html": [
              "<table class=\"dataframe\">\n",
              "<caption>A tibble: 1 × 7</caption>\n",
              "<thead>\n",
              "\t<tr><th scope=col>n</th><th scope=col>mean</th><th scope=col>mean_low</th><th scope=col>mean_upp</th><th scope=col>total</th><th scope=col>total_low</th><th scope=col>total_upp</th></tr>\n",
              "\t<tr><th scope=col>&lt;int&gt;</th><th scope=col>&lt;dbl&gt;</th><th scope=col>&lt;dbl&gt;</th><th scope=col>&lt;dbl&gt;</th><th scope=col>&lt;dbl&gt;</th><th scope=col>&lt;dbl&gt;</th><th scope=col>&lt;dbl&gt;</th></tr>\n",
              "</thead>\n",
              "<tbody>\n",
              "\t<tr><td>21221</td><td>21.04</td><td>20.56</td><td>21.52</td><td>51.8</td><td>49.81</td><td>53.78</td></tr>\n",
              "</tbody>\n",
              "</table>\n"
            ],
            "text/markdown": "\nA tibble: 1 × 7\n\n| n &lt;int&gt; | mean &lt;dbl&gt; | mean_low &lt;dbl&gt; | mean_upp &lt;dbl&gt; | total &lt;dbl&gt; | total_low &lt;dbl&gt; | total_upp &lt;dbl&gt; |\n|---|---|---|---|---|---|---|\n| 21221 | 21.04 | 20.56 | 21.52 | 51.8 | 49.81 | 53.78 |\n\n",
            "text/latex": "A tibble: 1 × 7\n\\begin{tabular}{lllllll}\n n & mean & mean\\_low & mean\\_upp & total & total\\_low & total\\_upp\\\\\n <int> & <dbl> & <dbl> & <dbl> & <dbl> & <dbl> & <dbl>\\\\\n\\hline\n\t 21221 & 21.04 & 20.56 & 21.52 & 51.8 & 49.81 & 53.78\\\\\n\\end{tabular}\n",
            "text/plain": [
              "  n     mean  mean_low mean_upp total total_low total_upp\n",
              "1 21221 21.04 20.56    21.52    51.8  49.81     53.78    "
            ]
          },
          "metadata": {}
        },
        {
          "output_type": "display_data",
          "data": {
            "text/html": [
              "<table class=\"dataframe\">\n",
              "<caption>A tibble: 1 × 7</caption>\n",
              "<thead>\n",
              "\t<tr><th scope=col>n</th><th scope=col>mean</th><th scope=col>mean_low</th><th scope=col>mean_upp</th><th scope=col>total</th><th scope=col>total_low</th><th scope=col>total_upp</th></tr>\n",
              "\t<tr><th scope=col>&lt;int&gt;</th><th scope=col>&lt;dbl&gt;</th><th scope=col>&lt;dbl&gt;</th><th scope=col>&lt;dbl&gt;</th><th scope=col>&lt;dbl&gt;</th><th scope=col>&lt;dbl&gt;</th><th scope=col>&lt;dbl&gt;</th></tr>\n",
              "</thead>\n",
              "<tbody>\n",
              "\t<tr><td>20635</td><td>21.58</td><td>21.1</td><td>22.06</td><td>53.12</td><td>51.03</td><td>55.22</td></tr>\n",
              "</tbody>\n",
              "</table>\n"
            ],
            "text/markdown": "\nA tibble: 1 × 7\n\n| n &lt;int&gt; | mean &lt;dbl&gt; | mean_low &lt;dbl&gt; | mean_upp &lt;dbl&gt; | total &lt;dbl&gt; | total_low &lt;dbl&gt; | total_upp &lt;dbl&gt; |\n|---|---|---|---|---|---|---|\n| 20635 | 21.58 | 21.1 | 22.06 | 53.12 | 51.03 | 55.22 |\n\n",
            "text/latex": "A tibble: 1 × 7\n\\begin{tabular}{lllllll}\n n & mean & mean\\_low & mean\\_upp & total & total\\_low & total\\_upp\\\\\n <int> & <dbl> & <dbl> & <dbl> & <dbl> & <dbl> & <dbl>\\\\\n\\hline\n\t 20635 & 21.58 & 21.1 & 22.06 & 53.12 & 51.03 & 55.22\\\\\n\\end{tabular}\n",
            "text/plain": [
              "  n     mean  mean_low mean_upp total total_low total_upp\n",
              "1 20635 21.58 21.1     22.06    53.12 51.03     55.22    "
            ]
          },
          "metadata": {}
        }
      ]
    },
    {
      "cell_type": "markdown",
      "source": [
        "###Prevalence by Year\n",
        "To analyze the prevalence of chronic pain and anxiety/depression over the years, we compute the summary statistics grouped by year."
      ],
      "metadata": {
        "id": "jcOD3-xCCmra"
      }
    },
    {
      "cell_type": "code",
      "source": [
        "# Calculate prevalence of chronic pain by year\n",
        "CP.year <- srvyr_design %>%\n",
        "  group_by(year) %>%\n",
        "    summarise(\n",
        "    n = sum(CP_classified==TRUE),\n",
        "    mean = round(survey_mean(CP_classified, vartype = \"ci\", level = 0.95, proportion = TRUE, method = \"clopper-pearson\",na.rm =TRUE)*100, 2),\n",
        "    total = round(survey_total(CP_classified, vartype = \"ci\", level = 0.95, proportion = TRUE, method = \"clopper-pearson\",na.rm =TRUE)*3/1000000, 2),\n",
        "  )\n",
        "CP.year\n",
        "\n",
        "# Calculate prevalence of anxiety/depression by year\n",
        "AD.year <- srvyr_design %>%\n",
        "  group_by(year) %>%\n",
        "  summarise(\n",
        "    n = sum(AorD==TRUE),\n",
        "    mean = round(survey_mean(AorD, vartype = \"ci\", level = 0.95, proportion = TRUE, method = \"clopper-pearson\",na.rm =TRUE)*100 , 2),\n",
        "    total = round(survey_total(AorD, vartype = \"ci\", level = 0.95, proportion = TRUE, method = \"clopper-pearson\",na.rm =TRUE)*3/1000000 ,2),\n",
        "  )\n",
        "AD.year"
      ],
      "metadata": {
        "id": "YWt-FgyFrFxv",
        "colab": {
          "base_uri": "https://localhost:8080/",
          "height": 367
        },
        "outputId": "26139c65-57ba-428c-b144-2808aaf412ab"
      },
      "execution_count": 15,
      "outputs": [
        {
          "output_type": "display_data",
          "data": {
            "text/html": [
              "<table class=\"dataframe\">\n",
              "<caption>A tibble: 3 × 8</caption>\n",
              "<thead>\n",
              "\t<tr><th scope=col>year</th><th scope=col>n</th><th scope=col>mean</th><th scope=col>mean_low</th><th scope=col>mean_upp</th><th scope=col>total</th><th scope=col>total_low</th><th scope=col>total_upp</th></tr>\n",
              "\t<tr><th scope=col>&lt;chr&gt;</th><th scope=col>&lt;int&gt;</th><th scope=col>&lt;dbl&gt;</th><th scope=col>&lt;dbl&gt;</th><th scope=col>&lt;dbl&gt;</th><th scope=col>&lt;dbl&gt;</th><th scope=col>&lt;dbl&gt;</th><th scope=col>&lt;dbl&gt;</th></tr>\n",
              "</thead>\n",
              "<tbody>\n",
              "\t<tr><td>2019</td><td>7167</td><td>20.51</td><td>19.90</td><td>21.14</td><td>50.11</td><td>47.78</td><td>52.44</td></tr>\n",
              "\t<tr><td>2020</td><td>7401</td><td>21.72</td><td>21.04</td><td>22.42</td><td>53.84</td><td>51.32</td><td>56.37</td></tr>\n",
              "\t<tr><td>2021</td><td>6653</td><td>20.87</td><td>20.23</td><td>21.52</td><td>51.44</td><td>49.22</td><td>53.66</td></tr>\n",
              "</tbody>\n",
              "</table>\n"
            ],
            "text/markdown": "\nA tibble: 3 × 8\n\n| year &lt;chr&gt; | n &lt;int&gt; | mean &lt;dbl&gt; | mean_low &lt;dbl&gt; | mean_upp &lt;dbl&gt; | total &lt;dbl&gt; | total_low &lt;dbl&gt; | total_upp &lt;dbl&gt; |\n|---|---|---|---|---|---|---|---|\n| 2019 | 7167 | 20.51 | 19.90 | 21.14 | 50.11 | 47.78 | 52.44 |\n| 2020 | 7401 | 21.72 | 21.04 | 22.42 | 53.84 | 51.32 | 56.37 |\n| 2021 | 6653 | 20.87 | 20.23 | 21.52 | 51.44 | 49.22 | 53.66 |\n\n",
            "text/latex": "A tibble: 3 × 8\n\\begin{tabular}{llllllll}\n year & n & mean & mean\\_low & mean\\_upp & total & total\\_low & total\\_upp\\\\\n <chr> & <int> & <dbl> & <dbl> & <dbl> & <dbl> & <dbl> & <dbl>\\\\\n\\hline\n\t 2019 & 7167 & 20.51 & 19.90 & 21.14 & 50.11 & 47.78 & 52.44\\\\\n\t 2020 & 7401 & 21.72 & 21.04 & 22.42 & 53.84 & 51.32 & 56.37\\\\\n\t 2021 & 6653 & 20.87 & 20.23 & 21.52 & 51.44 & 49.22 & 53.66\\\\\n\\end{tabular}\n",
            "text/plain": [
              "  year n    mean  mean_low mean_upp total total_low total_upp\n",
              "1 2019 7167 20.51 19.90    21.14    50.11 47.78     52.44    \n",
              "2 2020 7401 21.72 21.04    22.42    53.84 51.32     56.37    \n",
              "3 2021 6653 20.87 20.23    21.52    51.44 49.22     53.66    "
            ]
          },
          "metadata": {}
        },
        {
          "output_type": "display_data",
          "data": {
            "text/html": [
              "<table class=\"dataframe\">\n",
              "<caption>A tibble: 3 × 8</caption>\n",
              "<thead>\n",
              "\t<tr><th scope=col>year</th><th scope=col>n</th><th scope=col>mean</th><th scope=col>mean_low</th><th scope=col>mean_upp</th><th scope=col>total</th><th scope=col>total_low</th><th scope=col>total_upp</th></tr>\n",
              "\t<tr><th scope=col>&lt;chr&gt;</th><th scope=col>&lt;int&gt;</th><th scope=col>&lt;dbl&gt;</th><th scope=col>&lt;dbl&gt;</th><th scope=col>&lt;dbl&gt;</th><th scope=col>&lt;dbl&gt;</th><th scope=col>&lt;dbl&gt;</th><th scope=col>&lt;dbl&gt;</th></tr>\n",
              "</thead>\n",
              "<tbody>\n",
              "\t<tr><td>2019</td><td>6755</td><td>20.18</td><td>19.54</td><td>20.83</td><td>49.30</td><td>46.95</td><td>51.65</td></tr>\n",
              "\t<tr><td>2020</td><td>7094</td><td>21.71</td><td>21.01</td><td>22.42</td><td>53.81</td><td>51.23</td><td>56.39</td></tr>\n",
              "\t<tr><td>2021</td><td>6786</td><td>22.82</td><td>22.15</td><td>23.51</td><td>56.26</td><td>53.69</td><td>58.82</td></tr>\n",
              "</tbody>\n",
              "</table>\n"
            ],
            "text/markdown": "\nA tibble: 3 × 8\n\n| year &lt;chr&gt; | n &lt;int&gt; | mean &lt;dbl&gt; | mean_low &lt;dbl&gt; | mean_upp &lt;dbl&gt; | total &lt;dbl&gt; | total_low &lt;dbl&gt; | total_upp &lt;dbl&gt; |\n|---|---|---|---|---|---|---|---|\n| 2019 | 6755 | 20.18 | 19.54 | 20.83 | 49.30 | 46.95 | 51.65 |\n| 2020 | 7094 | 21.71 | 21.01 | 22.42 | 53.81 | 51.23 | 56.39 |\n| 2021 | 6786 | 22.82 | 22.15 | 23.51 | 56.26 | 53.69 | 58.82 |\n\n",
            "text/latex": "A tibble: 3 × 8\n\\begin{tabular}{llllllll}\n year & n & mean & mean\\_low & mean\\_upp & total & total\\_low & total\\_upp\\\\\n <chr> & <int> & <dbl> & <dbl> & <dbl> & <dbl> & <dbl> & <dbl>\\\\\n\\hline\n\t 2019 & 6755 & 20.18 & 19.54 & 20.83 & 49.30 & 46.95 & 51.65\\\\\n\t 2020 & 7094 & 21.71 & 21.01 & 22.42 & 53.81 & 51.23 & 56.39\\\\\n\t 2021 & 6786 & 22.82 & 22.15 & 23.51 & 56.26 & 53.69 & 58.82\\\\\n\\end{tabular}\n",
            "text/plain": [
              "  year n    mean  mean_low mean_upp total total_low total_upp\n",
              "1 2019 6755 20.18 19.54    20.83    49.30 46.95     51.65    \n",
              "2 2020 7094 21.71 21.01    22.42    53.81 51.23     56.39    \n",
              "3 2021 6786 22.82 22.15    23.51    56.26 53.69     58.82    "
            ]
          },
          "metadata": {}
        }
      ]
    },
    {
      "cell_type": "markdown",
      "source": [
        "###Visualizing Prevalence by Year"
      ],
      "metadata": {
        "id": "KH5QXXwxDXjr"
      }
    },
    {
      "cell_type": "code",
      "source": [
        "# Create a bar plot for chronic pain prevalence by year\n",
        "CP.plot <- ggplot(CP.year, aes(x = as.factor(year), y = mean, fill = \"Chronic Pain\")) +\n",
        "  geom_bar(stat = \"identity\", color = \"black\", width = 0.6) +\n",
        "  geom_errorbar(aes(ymin = mean_low, ymax = mean_upp), width = 0.2) +\n",
        "  labs(title = \"Prevlance mean of Chronic Pain by Year\",\n",
        "       x = \"Year\",\n",
        "       y = \"Prevalence (%)\") +\n",
        "  theme_minimal() +\n",
        "  scale_y_continuous(labels = scales::percent_format(scale = 1))+\n",
        "  scale_fill_manual(values = c(\"Chronic Pain\" = \"steelblue\"))\n",
        "\n",
        "CP.plot"
      ],
      "metadata": {
        "id": "xEOcFtbxu1HB",
        "colab": {
          "base_uri": "https://localhost:8080/",
          "height": 437
        },
        "outputId": "17e91d56-f56c-4805-89b0-c6e5b16036e9"
      },
      "execution_count": 16,
      "outputs": [
        {
          "output_type": "display_data",
          "data": {
            "text/plain": [
              "plot without title"
            ],
            "image/png": "[encoded data removed]"
          },
          "metadata": {
            "image/png": {
              "width": 420,
              "height": 420
            }
          }
        }
      ]
    },
    {
      "cell_type": "code",
      "source": [
        "# Create a bar plot for Anxiety/Depression prevalence by year\n",
        "AD.plot <- ggplot(AD.year, aes(x = as.factor(year), y = mean, fill = \"Anxiety/Depression\")) +\n",
        "  geom_bar(stat = \"identity\", color = \"black\", width = 0.6) +\n",
        "  geom_errorbar(aes(ymin = mean_low, ymax = mean_upp), width = 0.2) +\n",
        "  labs(title = \"Prevlance mean of Anxiety/Depression by Year\",\n",
        "       x = \"Year\",\n",
        "       y = \"Prevalence (%)\") +\n",
        "  theme_minimal() +\n",
        "  scale_y_continuous(labels = scales::percent_format(scale = 1))  +\n",
        "  scale_fill_manual(values = c(\"Anxiety/Depression\" = \"steelblue\"))\n",
        "AD.plot"
      ],
      "metadata": {
        "id": "EwxmAL38vgGR",
        "colab": {
          "base_uri": "https://localhost:8080/",
          "height": 437
        },
        "outputId": "26bc63ae-0248-49ce-f5b6-afda7b4028a1"
      },
      "execution_count": 17,
      "outputs": [
        {
          "output_type": "display_data",
          "data": {
            "text/plain": [
              "plot without title"
            ],
            "image/png": "[encoded data removed]"
          },
          "metadata": {
            "image/png": {
              "width": 420,
              "height": 420
            }
          }
        }
      ]
    },
    {
      "cell_type": "markdown",
      "source": [
        "##Chi-Square Tests for Association Between Chronic Pain and Anxiety/Depression\n",
        "To analyze the association between chronic pain (`CP_classified`) and anxiety/depression (`AorD`), we perform chi-square tests for each year. These tests assess whether there is a significant relationship between the two conditions.\n"
      ],
      "metadata": {
        "id": "VVBLzi5aFsDv"
      }
    },
    {
      "cell_type": "code",
      "execution_count": 18,
      "metadata": {
        "id": "DCno_Qsl_rde",
        "colab": {
          "base_uri": "https://localhost:8080/",
          "height": 288
        },
        "outputId": "06d10abf-5ff8-43c2-9e53-8f534c7f46c5"
      },
      "outputs": [
        {
          "output_type": "display_data",
          "data": {
            "text/plain": [
              "\n",
              "\tPearson's X^2: Rao & Scott adjustment\n",
              "\n",
              "data:  svychisq(~CP_classified + AorD, design = subset(survey_design,     year == 2019))\n",
              "F = 1401.5, ndf = 1, ddf = 556, p-value < 2.2e-16\n"
            ]
          },
          "metadata": {}
        },
        {
          "output_type": "display_data",
          "data": {
            "text/plain": [
              "\n",
              "\tPearson's X^2: Rao & Scott adjustment\n",
              "\n",
              "data:  svychisq(~CP_classified + AorD, design = subset(survey_design,     year == 2020))\n",
              "F = 868.8, ndf = 1, ddf = 571, p-value < 2.2e-16\n"
            ]
          },
          "metadata": {}
        },
        {
          "output_type": "display_data",
          "data": {
            "text/plain": [
              "\n",
              "\tPearson's X^2: Rao & Scott adjustment\n",
              "\n",
              "data:  svychisq(~CP_classified + AorD, design = subset(survey_design,     year == 2021))\n",
              "F = 988.08, ndf = 1, ddf = 591, p-value < 2.2e-16\n"
            ]
          },
          "metadata": {}
        }
      ],
      "source": [
        "# Perform chi-square test for 2019\n",
        "svychisq(~CP_classified+AorD, design = subset(survey_design,year==2019))\n",
        "# Perform chi-square test for 2020\n",
        "svychisq(~CP_classified+AorD, design = subset(survey_design,year==2020))\n",
        "# Perform chi-square test for 2021\n",
        "svychisq(~CP_classified+AorD, design = subset(survey_design,year==2021))"
      ]
    },
    {
      "cell_type": "markdown",
      "source": [
        "## Prevalence of Co-occurrence of Chronic Pain and Anxiety/Depression\n",
        "To assess the prevalence of co-occurring chronic pain and anxiety/depression, we calculate the proportion of individuals who experience both conditions simultaneously. This involves summarizing the `cooccuring` variable.\n"
      ],
      "metadata": {
        "id": "vgTrPeqRHRWp"
      }
    },
    {
      "cell_type": "code",
      "source": [
        "CO <- srvyr_design %>%\n",
        "  summarise(\n",
        "    count = sum(cooccuring),\n",
        "    mean = round(survey_mean(cooccuring, vartype = \"ci\", level = 0.95, proportion = TRUE, method = \"clopper-pearson\",na.rm = TRUE)*100, 2),\n",
        "    total = round(survey_total(cooccuring, vartype = \"ci\", level = 0.95, proportion = TRUE, method = \"clopper-pearson\",na.rm = TRUE)/1000000, 2),\n",
        "  )\n",
        "CO"
      ],
      "metadata": {
        "id": "MXroXWlFEO7E",
        "colab": {
          "base_uri": "https://localhost:8080/",
          "height": 129
        },
        "outputId": "d089c390-3d77-45c2-ebd1-6dfb36803f17"
      },
      "execution_count": 19,
      "outputs": [
        {
          "output_type": "display_data",
          "data": {
            "text/html": [
              "<table class=\"dataframe\">\n",
              "<caption>A tibble: 1 × 7</caption>\n",
              "<thead>\n",
              "\t<tr><th scope=col>count</th><th scope=col>mean</th><th scope=col>mean_low</th><th scope=col>mean_upp</th><th scope=col>total</th><th scope=col>total_low</th><th scope=col>total_upp</th></tr>\n",
              "\t<tr><th scope=col>&lt;int&gt;</th><th scope=col>&lt;dbl&gt;</th><th scope=col>&lt;dbl&gt;</th><th scope=col>&lt;dbl&gt;</th><th scope=col>&lt;dbl&gt;</th><th scope=col>&lt;dbl&gt;</th><th scope=col>&lt;dbl&gt;</th></tr>\n",
              "</thead>\n",
              "<tbody>\n",
              "\t<tr><td>8392</td><td>8.28</td><td>7.99</td><td>8.58</td><td>20.39</td><td>19.42</td><td>21.36</td></tr>\n",
              "</tbody>\n",
              "</table>\n"
            ],
            "text/markdown": "\nA tibble: 1 × 7\n\n| count &lt;int&gt; | mean &lt;dbl&gt; | mean_low &lt;dbl&gt; | mean_upp &lt;dbl&gt; | total &lt;dbl&gt; | total_low &lt;dbl&gt; | total_upp &lt;dbl&gt; |\n|---|---|---|---|---|---|---|\n| 8392 | 8.28 | 7.99 | 8.58 | 20.39 | 19.42 | 21.36 |\n\n",
            "text/latex": "A tibble: 1 × 7\n\\begin{tabular}{lllllll}\n count & mean & mean\\_low & mean\\_upp & total & total\\_low & total\\_upp\\\\\n <int> & <dbl> & <dbl> & <dbl> & <dbl> & <dbl> & <dbl>\\\\\n\\hline\n\t 8392 & 8.28 & 7.99 & 8.58 & 20.39 & 19.42 & 21.36\\\\\n\\end{tabular}\n",
            "text/plain": [
              "  count mean mean_low mean_upp total total_low total_upp\n",
              "1 8392  8.28 7.99     8.58     20.39 19.42     21.36    "
            ]
          },
          "metadata": {}
        }
      ]
    },
    {
      "cell_type": "markdown",
      "source": [
        "Calculating Yearly Prevalence of Co-occurrenc"
      ],
      "metadata": {
        "id": "UAznYBRFJv-k"
      }
    },
    {
      "cell_type": "code",
      "source": [
        "CO.year <- srvyr_design %>%\n",
        "  group_by(year) %>%\n",
        "  summarise(\n",
        "    count = sum(cooccuring),\n",
        "    mean = round(survey_mean(cooccuring, vartype = \"ci\", level = 0.95, proportion = TRUE, method = \"clopper-pearson\",na.rm = TRUE)*100, 2),\n",
        "    total = round(survey_total(cooccuring, vartype = \"ci\", level = 0.95, proportion = TRUE, method = \"clopper-pearson\",na.rm = TRUE)*3/1000000, 2),\n",
        "  )\n",
        "CO.year$Condition = \"cooccuring\"\n",
        "CO.year"
      ],
      "metadata": {
        "id": "M4JCQEweEjRd",
        "colab": {
          "base_uri": "https://localhost:8080/",
          "height": 192
        },
        "outputId": "b90f104e-7ded-44af-d3ba-60f68295bf12"
      },
      "execution_count": 20,
      "outputs": [
        {
          "output_type": "display_data",
          "data": {
            "text/html": [
              "<table class=\"dataframe\">\n",
              "<caption>A tibble: 3 × 9</caption>\n",
              "<thead>\n",
              "\t<tr><th scope=col>year</th><th scope=col>count</th><th scope=col>mean</th><th scope=col>mean_low</th><th scope=col>mean_upp</th><th scope=col>total</th><th scope=col>total_low</th><th scope=col>total_upp</th><th scope=col>Condition</th></tr>\n",
              "\t<tr><th scope=col>&lt;chr&gt;</th><th scope=col>&lt;int&gt;</th><th scope=col>&lt;dbl&gt;</th><th scope=col>&lt;dbl&gt;</th><th scope=col>&lt;dbl&gt;</th><th scope=col>&lt;dbl&gt;</th><th scope=col>&lt;dbl&gt;</th><th scope=col>&lt;dbl&gt;</th><th scope=col>&lt;chr&gt;</th></tr>\n",
              "</thead>\n",
              "<tbody>\n",
              "\t<tr><td>2019</td><td>2880</td><td>8.22</td><td>7.80</td><td>8.66</td><td>20.09</td><td>18.83</td><td>21.34</td><td>cooccuring</td></tr>\n",
              "\t<tr><td>2020</td><td>2852</td><td>8.27</td><td>7.85</td><td>8.72</td><td>20.51</td><td>19.23</td><td>21.79</td><td>cooccuring</td></tr>\n",
              "\t<tr><td>2021</td><td>2660</td><td>8.35</td><td>7.96</td><td>8.76</td><td>20.58</td><td>19.41</td><td>21.75</td><td>cooccuring</td></tr>\n",
              "</tbody>\n",
              "</table>\n"
            ],
            "text/markdown": "\nA tibble: 3 × 9\n\n| year &lt;chr&gt; | count &lt;int&gt; | mean &lt;dbl&gt; | mean_low &lt;dbl&gt; | mean_upp &lt;dbl&gt; | total &lt;dbl&gt; | total_low &lt;dbl&gt; | total_upp &lt;dbl&gt; | Condition &lt;chr&gt; |\n|---|---|---|---|---|---|---|---|---|\n| 2019 | 2880 | 8.22 | 7.80 | 8.66 | 20.09 | 18.83 | 21.34 | cooccuring |\n| 2020 | 2852 | 8.27 | 7.85 | 8.72 | 20.51 | 19.23 | 21.79 | cooccuring |\n| 2021 | 2660 | 8.35 | 7.96 | 8.76 | 20.58 | 19.41 | 21.75 | cooccuring |\n\n",
            "text/latex": "A tibble: 3 × 9\n\\begin{tabular}{lllllllll}\n year & count & mean & mean\\_low & mean\\_upp & total & total\\_low & total\\_upp & Condition\\\\\n <chr> & <int> & <dbl> & <dbl> & <dbl> & <dbl> & <dbl> & <dbl> & <chr>\\\\\n\\hline\n\t 2019 & 2880 & 8.22 & 7.80 & 8.66 & 20.09 & 18.83 & 21.34 & cooccuring\\\\\n\t 2020 & 2852 & 8.27 & 7.85 & 8.72 & 20.51 & 19.23 & 21.79 & cooccuring\\\\\n\t 2021 & 2660 & 8.35 & 7.96 & 8.76 & 20.58 & 19.41 & 21.75 & cooccuring\\\\\n\\end{tabular}\n",
            "text/plain": [
              "  year count mean mean_low mean_upp total total_low total_upp Condition \n",
              "1 2019 2880  8.22 7.80     8.66     20.09 18.83     21.34     cooccuring\n",
              "2 2020 2852  8.27 7.85     8.72     20.51 19.23     21.79     cooccuring\n",
              "3 2021 2660  8.35 7.96     8.76     20.58 19.41     21.75     cooccuring"
            ]
          },
          "metadata": {}
        }
      ]
    },
    {
      "cell_type": "markdown",
      "source": [
        "##Combined Bar Plot of Chronic Pain and Anxiety/Depression by Year\n",
        "\n",
        "The combined bar plot visualizes the prevalence of chronic pain and anxiety/depression conditions across different years. The plot includes separate bars for each condition, allowing for an easy comparison of their rates over time.\n"
      ],
      "metadata": {
        "id": "Zuv3SVSrKNnK"
      }
    },
    {
      "cell_type": "markdown",
      "source": [
        "## Prevalence of Conditions"
      ],
      "metadata": {
        "id": "JHg5iiahL09F"
      }
    },
    {
      "cell_type": "code",
      "execution_count": 22,
      "metadata": {
        "id": "RgntVc5VJzZD",
        "colab": {
          "base_uri": "https://localhost:8080/",
          "height": 353
        },
        "outputId": "6ed31f90-e147-49ec-b7a9-3d4edcf92537"
      },
      "outputs": [
        {
          "output_type": "display_data",
          "data": {
            "text/html": [
              "<table class=\"dataframe\">\n",
              "<caption>A tibble: 1 × 7</caption>\n",
              "<thead>\n",
              "\t<tr><th scope=col>count</th><th scope=col>mean</th><th scope=col>mean_low</th><th scope=col>mean_upp</th><th scope=col>total</th><th scope=col>total_low</th><th scope=col>total_upp</th></tr>\n",
              "\t<tr><th scope=col>&lt;int&gt;</th><th scope=col>&lt;dbl&gt;</th><th scope=col>&lt;dbl&gt;</th><th scope=col>&lt;dbl&gt;</th><th scope=col>&lt;dbl&gt;</th><th scope=col>&lt;dbl&gt;</th><th scope=col>&lt;dbl&gt;</th></tr>\n",
              "</thead>\n",
              "<tbody>\n",
              "\t<tr><td>12829</td><td>12.75</td><td>12.44</td><td>13.08</td><td>31.4</td><td>30.16</td><td>32.65</td></tr>\n",
              "</tbody>\n",
              "</table>\n"
            ],
            "text/markdown": "\nA tibble: 1 × 7\n\n| count &lt;int&gt; | mean &lt;dbl&gt; | mean_low &lt;dbl&gt; | mean_upp &lt;dbl&gt; | total &lt;dbl&gt; | total_low &lt;dbl&gt; | total_upp &lt;dbl&gt; |\n|---|---|---|---|---|---|---|\n| 12829 | 12.75 | 12.44 | 13.08 | 31.4 | 30.16 | 32.65 |\n\n",
            "text/latex": "A tibble: 1 × 7\n\\begin{tabular}{lllllll}\n count & mean & mean\\_low & mean\\_upp & total & total\\_low & total\\_upp\\\\\n <int> & <dbl> & <dbl> & <dbl> & <dbl> & <dbl> & <dbl>\\\\\n\\hline\n\t 12829 & 12.75 & 12.44 & 13.08 & 31.4 & 30.16 & 32.65\\\\\n\\end{tabular}\n",
            "text/plain": [
              "  count mean  mean_low mean_upp total total_low total_upp\n",
              "1 12829 12.75 12.44    13.08    31.4  30.16     32.65    "
            ]
          },
          "metadata": {}
        },
        {
          "output_type": "display_data",
          "data": {
            "text/html": [
              "<table class=\"dataframe\">\n",
              "<caption>A tibble: 1 × 7</caption>\n",
              "<thead>\n",
              "\t<tr><th scope=col>count</th><th scope=col>mean</th><th scope=col>mean_low</th><th scope=col>mean_upp</th><th scope=col>total</th><th scope=col>total_low</th><th scope=col>total_upp</th></tr>\n",
              "\t<tr><th scope=col>&lt;int&gt;</th><th scope=col>&lt;dbl&gt;</th><th scope=col>&lt;dbl&gt;</th><th scope=col>&lt;dbl&gt;</th><th scope=col>&lt;dbl&gt;</th><th scope=col>&lt;dbl&gt;</th><th scope=col>&lt;dbl&gt;</th></tr>\n",
              "</thead>\n",
              "<tbody>\n",
              "\t<tr><td>12243</td><td>13.29</td><td>12.96</td><td>13.63</td><td>32.73</td><td>31.37</td><td>34.1</td></tr>\n",
              "</tbody>\n",
              "</table>\n"
            ],
            "text/markdown": "\nA tibble: 1 × 7\n\n| count &lt;int&gt; | mean &lt;dbl&gt; | mean_low &lt;dbl&gt; | mean_upp &lt;dbl&gt; | total &lt;dbl&gt; | total_low &lt;dbl&gt; | total_upp &lt;dbl&gt; |\n|---|---|---|---|---|---|---|\n| 12243 | 13.29 | 12.96 | 13.63 | 32.73 | 31.37 | 34.1 |\n\n",
            "text/latex": "A tibble: 1 × 7\n\\begin{tabular}{lllllll}\n count & mean & mean\\_low & mean\\_upp & total & total\\_low & total\\_upp\\\\\n <int> & <dbl> & <dbl> & <dbl> & <dbl> & <dbl> & <dbl>\\\\\n\\hline\n\t 12243 & 13.29 & 12.96 & 13.63 & 32.73 & 31.37 & 34.1\\\\\n\\end{tabular}\n",
            "text/plain": [
              "  count mean  mean_low mean_upp total total_low total_upp\n",
              "1 12243 13.29 12.96    13.63    32.73 31.37     34.1     "
            ]
          },
          "metadata": {}
        },
        {
          "output_type": "display_data",
          "data": {
            "text/html": [
              "<table class=\"dataframe\">\n",
              "<caption>A tibble: 1 × 7</caption>\n",
              "<thead>\n",
              "\t<tr><th scope=col>count</th><th scope=col>mean</th><th scope=col>mean_low</th><th scope=col>mean_upp</th><th scope=col>total</th><th scope=col>total_low</th><th scope=col>total_upp</th></tr>\n",
              "\t<tr><th scope=col>&lt;int&gt;</th><th scope=col>&lt;dbl&gt;</th><th scope=col>&lt;dbl&gt;</th><th scope=col>&lt;dbl&gt;</th><th scope=col>&lt;dbl&gt;</th><th scope=col>&lt;dbl&gt;</th><th scope=col>&lt;dbl&gt;</th></tr>\n",
              "</thead>\n",
              "<tbody>\n",
              "\t<tr><td>57594</td><td>65.67</td><td>65.08</td><td>66.26</td><td>161.7</td><td>156.11</td><td>167.29</td></tr>\n",
              "</tbody>\n",
              "</table>\n"
            ],
            "text/markdown": "\nA tibble: 1 × 7\n\n| count &lt;int&gt; | mean &lt;dbl&gt; | mean_low &lt;dbl&gt; | mean_upp &lt;dbl&gt; | total &lt;dbl&gt; | total_low &lt;dbl&gt; | total_upp &lt;dbl&gt; |\n|---|---|---|---|---|---|---|\n| 57594 | 65.67 | 65.08 | 66.26 | 161.7 | 156.11 | 167.29 |\n\n",
            "text/latex": "A tibble: 1 × 7\n\\begin{tabular}{lllllll}\n count & mean & mean\\_low & mean\\_upp & total & total\\_low & total\\_upp\\\\\n <int> & <dbl> & <dbl> & <dbl> & <dbl> & <dbl> & <dbl>\\\\\n\\hline\n\t 57594 & 65.67 & 65.08 & 66.26 & 161.7 & 156.11 & 167.29\\\\\n\\end{tabular}\n",
            "text/plain": [
              "  count mean  mean_low mean_upp total total_low total_upp\n",
              "1 57594 65.67 65.08    66.26    161.7 156.11    167.29   "
            ]
          },
          "metadata": {}
        }
      ],
      "source": [
        "cond.C <- srvyr_design %>%\n",
        "  summarise(\n",
        "    count = sum(Condition==\"Chronic Pain Only\"),\n",
        "    mean = round(survey_mean(Condition==\"Chronic Pain Only\", vartype = \"ci\", level = 0.95, proportion = TRUE, method = \"clopper-pearson\")*100, 2),\n",
        "    total = round(survey_total(Condition==\"Chronic Pain Only\", vartype = \"ci\", level = 0.95, proportion = TRUE, method = \"clopper-pearson\")/1000000, 2),\n",
        "  )\n",
        "cond.C\n",
        "\n",
        "cond.A <- srvyr_design %>%\n",
        "  summarise(\n",
        "    count = sum(Condition==\"A/D Only\"),\n",
        "    mean = round(survey_mean(Condition==\"A/D Only\", vartype = \"ci\", level = 0.95, proportion = TRUE, method = \"clopper-pearson\")*100, 2),\n",
        "    total = round(survey_total(Condition==\"A/D Only\", vartype = \"ci\", level = 0.95, proportion = TRUE, method = \"clopper-pearson\")/1000000, 2),\n",
        "  )\n",
        "cond.A\n",
        "\n",
        "cond.N <- srvyr_design %>%\n",
        "  summarise(\n",
        "    count = sum(Condition==\"Neither\"),\n",
        "    mean = round(survey_mean(Condition==\"Neither\", vartype = \"ci\", level = 0.95, proportion = TRUE, method = \"clopper-pearson\")*100, 2),\n",
        "    total = round(survey_total(Condition==\"Neither\", vartype = \"ci\", level = 0.95, proportion = TRUE, method = \"clopper-pearson\")/1000000, 2),\n",
        "  )\n",
        "cond.N"
      ]
    },
    {
      "cell_type": "markdown",
      "source": [
        "## Co-occurrence of Chronic Pain and Anxiety/Depression by Age Group\n"
      ],
      "metadata": {
        "id": "wsVOv1yINjLF"
      }
    },
    {
      "cell_type": "code",
      "execution_count": 23,
      "metadata": {
        "id": "G3ajxsxmVhN8",
        "colab": {
          "base_uri": "https://localhost:8080/"
        },
        "outputId": "f543b295-cca8-4292-bdf4-6a380f0c4a04"
      },
      "outputs": [
        {
          "output_type": "stream",
          "name": "stdout",
          "text": [
            "\u001b[90m# A tibble: 4 × 8\u001b[39m\n",
            "  age_group count  mean mean_low mean_upp total total_low total_upp\n",
            "  \u001b[3m\u001b[90m<fct>\u001b[39m\u001b[23m     \u001b[3m\u001b[90m<int>\u001b[39m\u001b[23m \u001b[3m\u001b[90m<dbl>\u001b[39m\u001b[23m    \u001b[3m\u001b[90m<dbl>\u001b[39m\u001b[23m    \u001b[3m\u001b[90m<dbl>\u001b[39m\u001b[23m \u001b[3m\u001b[90m<dbl>\u001b[39m\u001b[23m     \u001b[3m\u001b[90m<dbl>\u001b[39m\u001b[23m     \u001b[3m\u001b[90m<dbl>\u001b[39m\u001b[23m\n",
            "\u001b[90m1\u001b[39m 18-44      \u001b[4m1\u001b[24m906   5.4      5.1      5.8   5.9       5.5       6.3\n",
            "\u001b[90m2\u001b[39m 45-64      \u001b[4m3\u001b[24m513  11.1     10.6     11.7   8.9       8.4       9.4\n",
            "\u001b[90m3\u001b[39m 65+        \u001b[4m2\u001b[24m968   9.7      9.3     10.2   5.5       5.2       5.9\n",
            "\u001b[90m4\u001b[39m \u001b[31mNA\u001b[39m            5   3.7      1.4      9.7   0         0         0  \n"
          ]
        }
      ],
      "source": [
        "# Filter, group by age_group, and count the rows where co-occuring\n",
        "CO_by_age_group <- srvyr_design %>%\n",
        "  group_by(age_group) %>%\n",
        "  summarise(count = sum(cooccuring==TRUE),\n",
        "            mean = round(survey_mean(cooccuring ,vartype = \"ci\", level = 0.95, proportion = TRUE, method = \"clopper-pearson\", na.rm=TRUE)*100 ,1),\n",
        "            total = round(survey_total(cooccuring ,vartype = \"ci\", level = 0.95, proportion = TRUE, method = \"clopper-pearson\", na.rm=TRUE)/1000000 ,1),\n",
        "            )\n",
        "\n",
        "# Summary Table\n",
        "print(CO_by_age_group)"
      ]
    },
    {
      "cell_type": "markdown",
      "source": [
        "##Applying t-test between Age groups\n"
      ],
      "metadata": {
        "id": "EZz_909G5aZc"
      }
    },
    {
      "cell_type": "code",
      "source": [
        "svyttest(cooccuring~age_group , subset(survey_design ,\n",
        "age_group %in% c(\"18-44\",\"45-64\") ))"
      ],
      "metadata": {
        "id": "aBNFH_gYTAVM",
        "colab": {
          "base_uri": "https://localhost:8080/",
          "height": 216
        },
        "outputId": "cf91ba9b-6410-426a-9bb8-bbeec569bbd8"
      },
      "execution_count": 24,
      "outputs": [
        {
          "output_type": "display_data",
          "data": {
            "text/plain": [
              "\n",
              "\tDesign-based t-test\n",
              "\n",
              "data:  cooccuring ~ age_group\n",
              "t = 21.569, df = 603, p-value < 2.2e-16\n",
              "alternative hypothesis: true difference in mean is not equal to 0\n",
              "95 percent confidence interval:\n",
              " 0.05189355 0.06228998\n",
              "sample estimates:\n",
              "difference in mean \n",
              "        0.05709176 \n"
            ]
          },
          "metadata": {}
        }
      ]
    },
    {
      "cell_type": "code",
      "source": [
        "svyttest(cooccuring~age_group , subset(survey_design ,\n",
        "age_group %in% c(\"18-44\",\"65+\") ))"
      ],
      "metadata": {
        "id": "WStDKVg4BM3M",
        "colab": {
          "base_uri": "https://localhost:8080/",
          "height": 216
        },
        "outputId": "0e8849c6-f4a0-40df-c77c-7179594dab49"
      },
      "execution_count": 25,
      "outputs": [
        {
          "output_type": "display_data",
          "data": {
            "text/plain": [
              "\n",
              "\tDesign-based t-test\n",
              "\n",
              "data:  cooccuring ~ age_group\n",
              "t = 16.835, df = 601, p-value < 2.2e-16\n",
              "alternative hypothesis: true difference in mean is not equal to 0\n",
              "95 percent confidence interval:\n",
              " 0.03786239 0.04786305\n",
              "sample estimates:\n",
              "difference in mean \n",
              "        0.04286272 \n"
            ]
          },
          "metadata": {}
        }
      ]
    },
    {
      "cell_type": "markdown",
      "source": [
        "## Co-occurrence of Chronic Pain and Anxiety/Depression by Sex groups\n"
      ],
      "metadata": {
        "id": "RbEzBAIC530k"
      }
    },
    {
      "cell_type": "code",
      "execution_count": 26,
      "metadata": {
        "id": "nkS-wA7xbL7g",
        "colab": {
          "base_uri": "https://localhost:8080/"
        },
        "outputId": "8bf70655-3ba2-4a71-da19-64c2b4da8a59"
      },
      "outputs": [
        {
          "output_type": "stream",
          "name": "stdout",
          "text": [
            "\u001b[90m# A tibble: 3 × 8\u001b[39m\n",
            "  SEX    count  mean mean_low mean_upp total total_low total_upp\n",
            "  \u001b[3m\u001b[90m<chr>\u001b[39m\u001b[23m  \u001b[3m\u001b[90m<int>\u001b[39m\u001b[23m \u001b[3m\u001b[90m<dbl>\u001b[39m\u001b[23m    \u001b[3m\u001b[90m<dbl>\u001b[39m\u001b[23m    \u001b[3m\u001b[90m<dbl>\u001b[39m\u001b[23m \u001b[3m\u001b[90m<dbl>\u001b[39m\u001b[23m     \u001b[3m\u001b[90m<dbl>\u001b[39m\u001b[23m     \u001b[3m\u001b[90m<dbl>\u001b[39m\u001b[23m\n",
            "\u001b[90m1\u001b[39m FEMALE  \u001b[4m5\u001b[24m584  10.4     10       10.9  13.3      12.6      14  \n",
            "\u001b[90m2\u001b[39m MALE    \u001b[4m2\u001b[24m805   6        5.7      6.3   7.1       6.7       7.6\n",
            "\u001b[90m3\u001b[39m \u001b[31mNA\u001b[39m         3  21.4      0      \u001b[31mNaN\u001b[39m     0         0         0  \n"
          ]
        }
      ],
      "source": [
        "# Filter, group by age_group, and count the rows where the have co-occuring condition\n",
        "CO_by_sex <- srvyr_design %>%\n",
        "  # filter(cooccuring) %>%\n",
        "  group_by(SEX) %>%\n",
        "  summarise(count = sum(cooccuring==TRUE),\n",
        "            mean = round(survey_mean(cooccuring ,vartype = \"ci\", level = 0.95, proportion = TRUE, method = \"clopper-pearson\", na.rm=TRUE)*100 ,1),\n",
        "            total = round(survey_total(cooccuring ,vartype = \"ci\", level = 0.95, proportion = TRUE, method = \"clopper-pearson\", na.rm=TRUE)/1000000 ,1),\n",
        "            )\n",
        "\n",
        "# Print the result\n",
        "print(CO_by_sex)"
      ]
    },
    {
      "cell_type": "markdown",
      "source": [
        "##Applying t-test between Sex groups"
      ],
      "metadata": {
        "id": "escA2h8F6Fo9"
      }
    },
    {
      "cell_type": "code",
      "source": [
        "svyttest(cooccuring~SEX , survey_design)"
      ],
      "metadata": {
        "id": "fJjq1OjSBZ7H",
        "colab": {
          "base_uri": "https://localhost:8080/",
          "height": 216
        },
        "outputId": "5248cb7e-76cb-48da-8e03-2a9fbe046492"
      },
      "execution_count": 27,
      "outputs": [
        {
          "output_type": "display_data",
          "data": {
            "text/plain": [
              "\n",
              "\tDesign-based t-test\n",
              "\n",
              "data:  cooccuring ~ SEX\n",
              "t = -19.59, df = 603, p-value < 2.2e-16\n",
              "alternative hypothesis: true difference in mean is not equal to 0\n",
              "95 percent confidence interval:\n",
              " -0.04895565 -0.04003428\n",
              "sample estimates:\n",
              "difference in mean \n",
              "       -0.04449496 \n"
            ]
          },
          "metadata": {}
        }
      ]
    },
    {
      "cell_type": "markdown",
      "source": [
        "## Co-occurrence of Chronic Pain and Anxiety/Depression by Race groups"
      ],
      "metadata": {
        "id": "2bLHSINF6Jkf"
      }
    },
    {
      "cell_type": "code",
      "source": [
        "CO_by_race <- srvyr_design %>%\n",
        "  group_by(Race) %>%\n",
        "  summarise(count = sum(cooccuring==TRUE),\n",
        "            mean = round(survey_mean(cooccuring ,vartype = \"ci\", level = 0.95, proportion = TRUE, method = \"clopper-pearson\", na.rm=TRUE)*100 ,1),\n",
        "            total = round(survey_total(cooccuring ,vartype = \"ci\", level = 0.95, proportion = TRUE, method = \"clopper-pearson\", na.rm=TRUE)/1000000 ,1),\n",
        "            )\n",
        "\n",
        "# Print the result\n",
        "print(CO_by_race)"
      ],
      "metadata": {
        "id": "4hs3kYf9IXdG",
        "colab": {
          "base_uri": "https://localhost:8080/"
        },
        "outputId": "fbb4fd9b-01dc-4610-a7e7-3a29acaf250d"
      },
      "execution_count": 28,
      "outputs": [
        {
          "output_type": "stream",
          "name": "stdout",
          "text": [
            "\u001b[90m# A tibble: 6 × 8\u001b[39m\n",
            "  Race                   count  mean mean_low mean_upp total total_low total_upp\n",
            "  \u001b[3m\u001b[90m<chr>\u001b[39m\u001b[23m                  \u001b[3m\u001b[90m<int>\u001b[39m\u001b[23m \u001b[3m\u001b[90m<dbl>\u001b[39m\u001b[23m    \u001b[3m\u001b[90m<dbl>\u001b[39m\u001b[23m    \u001b[3m\u001b[90m<dbl>\u001b[39m\u001b[23m \u001b[3m\u001b[90m<dbl>\u001b[39m\u001b[23m     \u001b[3m\u001b[90m<dbl>\u001b[39m\u001b[23m     \u001b[3m\u001b[90m<dbl>\u001b[39m\u001b[23m\n",
            "\u001b[90m1\u001b[39m AI/AN, NH                 87  12.2      8.1     18     0.2       0.1       0.3\n",
            "\u001b[90m2\u001b[39m Asian, NH                104   1.6      1.3      2.1   0.2       0.2       0.3\n",
            "\u001b[90m3\u001b[39m Black/African America…   763   6.8      6.1      7.5   1.9       1.7       2.2\n",
            "\u001b[90m4\u001b[39m Hispanic                 750   5.3      4.9      5.8   2.2       1.9       2.4\n",
            "\u001b[90m5\u001b[39m Other single and mult…   230  11.8      9.9     14.1   0.6       0.5       0.7\n",
            "\u001b[90m6\u001b[39m White, NH               \u001b[4m6\u001b[24m458   9.8      9.4     10.2  15.3      14.4      16.1\n"
          ]
        }
      ]
    },
    {
      "cell_type": "markdown",
      "source": [
        "##Applying t-test between Race groups\n",
        "\n",
        "\n"
      ],
      "metadata": {
        "id": "EIzeboPu6dAu"
      }
    },
    {
      "cell_type": "code",
      "source": [
        "svyttest(cooccuring~Race , subset(survey_design,\n",
        " Race %in% c(\"Hispanic\",\"Asian, NH\") ) )"
      ],
      "metadata": {
        "id": "QEIQuHGFCR7a",
        "colab": {
          "base_uri": "https://localhost:8080/",
          "height": 216
        },
        "outputId": "cbec11ca-8520-479a-d61c-3e227eaf470b"
      },
      "execution_count": 29,
      "outputs": [
        {
          "output_type": "display_data",
          "data": {
            "text/plain": [
              "\n",
              "\tDesign-based t-test\n",
              "\n",
              "data:  cooccuring ~ Race\n",
              "t = 11.72, df = 574, p-value < 2.2e-16\n",
              "alternative hypothesis: true difference in mean is not equal to 0\n",
              "95 percent confidence interval:\n",
              " 0.03049374 0.04277169\n",
              "sample estimates:\n",
              "difference in mean \n",
              "        0.03663271 \n"
            ]
          },
          "metadata": {}
        }
      ]
    },
    {
      "cell_type": "code",
      "source": [
        "svyttest(cooccuring~Race , subset(survey_design,\n",
        " Race %in% c(\"Hispanic\",\"AI/AN, NH\") ) )"
      ],
      "metadata": {
        "id": "TBPGA8InDBZV",
        "colab": {
          "base_uri": "https://localhost:8080/",
          "height": 216
        },
        "outputId": "0c78b2bd-1a1c-47ba-9d3c-299363a82f5d"
      },
      "execution_count": 30,
      "outputs": [
        {
          "output_type": "display_data",
          "data": {
            "text/plain": [
              "\n",
              "\tDesign-based t-test\n",
              "\n",
              "data:  cooccuring ~ Race\n",
              "t = -2.7936, df = 565, p-value = 0.005389\n",
              "alternative hypothesis: true difference in mean is not equal to 0\n",
              "95 percent confidence interval:\n",
              " -0.11790618 -0.02055504\n",
              "sample estimates:\n",
              "difference in mean \n",
              "       -0.06923061 \n"
            ]
          },
          "metadata": {}
        }
      ]
    },
    {
      "cell_type": "code",
      "source": [
        "svyttest(cooccuring~Race , subset(survey_design,\n",
        " Race %in% c(\"Hispanic\",\"Black/African America, NH\") ) )"
      ],
      "metadata": {
        "id": "BixuwfDNDL6x",
        "colab": {
          "base_uri": "https://localhost:8080/",
          "height": 216
        },
        "outputId": "b5e1070d-b5e4-41df-de80-799f99c756e2"
      },
      "execution_count": 31,
      "outputs": [
        {
          "output_type": "display_data",
          "data": {
            "text/plain": [
              "\n",
              "\tDesign-based t-test\n",
              "\n",
              "data:  cooccuring ~ Race\n",
              "t = -3.5616, df = 589, p-value = 0.0003984\n",
              "alternative hypothesis: true difference in mean is not equal to 0\n",
              "95 percent confidence interval:\n",
              " -0.023015632 -0.006654349\n",
              "sample estimates:\n",
              "difference in mean \n",
              "       -0.01483499 \n"
            ]
          },
          "metadata": {}
        }
      ]
    },
    {
      "cell_type": "code",
      "source": [
        "svyttest(cooccuring~Race , subset(survey_design,\n",
        " Race %in% c(\"Hispanic\",\"Other single and multi race\") ) )"
      ],
      "metadata": {
        "id": "lIFjG4W3Db_O",
        "colab": {
          "base_uri": "https://localhost:8080/",
          "height": 216
        },
        "outputId": "f0c1865c-1600-4446-ff2e-f20c4acdc732"
      },
      "execution_count": 32,
      "outputs": [
        {
          "output_type": "display_data",
          "data": {
            "text/plain": [
              "\n",
              "\tDesign-based t-test\n",
              "\n",
              "data:  cooccuring ~ Race\n",
              "t = 5.9527, df = 579, p-value = 4.574e-09\n",
              "alternative hypothesis: true difference in mean is not equal to 0\n",
              "95 percent confidence interval:\n",
              " 0.04355131 0.08644260\n",
              "sample estimates:\n",
              "difference in mean \n",
              "        0.06499696 \n"
            ]
          },
          "metadata": {}
        }
      ]
    },
    {
      "cell_type": "code",
      "source": [
        "svyttest(cooccuring~Race , subset(survey_design,\n",
        " Race %in% c(\"Asian, NH\",\"Hispanic\") ) )"
      ],
      "metadata": {
        "id": "gLLe3Sb5DnBo",
        "colab": {
          "base_uri": "https://localhost:8080/",
          "height": 216
        },
        "outputId": "6f649e5d-5082-4791-aba0-0cea90b65ba9"
      },
      "execution_count": 33,
      "outputs": [
        {
          "output_type": "display_data",
          "data": {
            "text/plain": [
              "\n",
              "\tDesign-based t-test\n",
              "\n",
              "data:  cooccuring ~ Race\n",
              "t = 11.72, df = 574, p-value < 2.2e-16\n",
              "alternative hypothesis: true difference in mean is not equal to 0\n",
              "95 percent confidence interval:\n",
              " 0.03049374 0.04277169\n",
              "sample estimates:\n",
              "difference in mean \n",
              "        0.03663271 \n"
            ]
          },
          "metadata": {}
        }
      ]
    },
    {
      "cell_type": "markdown",
      "source": [
        "## Co-occurrence of Chronic Pain and Anxiety/Depression by Employment status"
      ],
      "metadata": {
        "id": "h1ZP2-A26tpb"
      }
    },
    {
      "cell_type": "code",
      "source": [
        "CO_by_employment <- srvyr_design %>%\n",
        "  # filter(cooccuring) %>%\n",
        "  group_by(Employment) %>%\n",
        "  summarise(count = sum(cooccuring==TRUE),\n",
        "            mean = round(survey_mean(cooccuring ,vartype = \"ci\", level = 0.95, proportion = TRUE, method = \"clopper-pearson\", na.rm=TRUE)*100 ,1),\n",
        "            total = round(survey_total(cooccuring ,vartype = \"ci\", level = 0.95, proportion = TRUE, method = \"clopper-pearson\", na.rm=TRUE)/1000000 ,1),\n",
        "            )\n",
        "\n",
        "# Print the result\n",
        "print(CO_by_employment)"
      ],
      "metadata": {
        "id": "KpBVsUUC-JKA",
        "colab": {
          "base_uri": "https://localhost:8080/"
        },
        "outputId": "bb7b0230-23ca-4df5-da0f-9e585c785e2b"
      },
      "execution_count": 34,
      "outputs": [
        {
          "output_type": "stream",
          "name": "stdout",
          "text": [
            "\u001b[90m# A tibble: 4 × 8\u001b[39m\n",
            "  Employment            count  mean mean_low mean_upp total total_low total_upp\n",
            "  \u001b[3m\u001b[90m<chr>\u001b[39m\u001b[23m                 \u001b[3m\u001b[90m<int>\u001b[39m\u001b[23m \u001b[3m\u001b[90m<dbl>\u001b[39m\u001b[23m    \u001b[3m\u001b[90m<dbl>\u001b[39m\u001b[23m    \u001b[3m\u001b[90m<dbl>\u001b[39m\u001b[23m \u001b[3m\u001b[90m<dbl>\u001b[39m\u001b[23m     \u001b[3m\u001b[90m<dbl>\u001b[39m\u001b[23m     \u001b[3m\u001b[90m<dbl>\u001b[39m\u001b[23m\n",
            "\u001b[90m1\u001b[39m Emplyed                 533   8.8      7.9      9.8   1.5       1.4       1.7\n",
            "\u001b[90m2\u001b[39m NE, never worked        135   6.1      5        7.5   0.4       0.3       0.5\n",
            "\u001b[90m3\u001b[39m NE, worked previously  \u001b[4m4\u001b[24m601  15.3     14.7     15.9  10.2       9.7      10.7\n",
            "\u001b[90m4\u001b[39m \u001b[31mNA\u001b[39m                     \u001b[4m3\u001b[24m123   5.3      5.1      5.6   8.3       7.7       8.8\n"
          ]
        }
      ]
    },
    {
      "cell_type": "markdown",
      "source": [
        "##Applying t-test between Emolyment groups"
      ],
      "metadata": {
        "id": "FDGUNUew7AuZ"
      }
    },
    {
      "cell_type": "code",
      "source": [
        "svyttest(cooccuring~Employment , subset(survey_design,\n",
        " Employment %in% c(\"Emplyed\",\"NE, worked previously\") ) )"
      ],
      "metadata": {
        "id": "c2GaxnJhEpSU",
        "colab": {
          "base_uri": "https://localhost:8080/",
          "height": 216
        },
        "outputId": "9ef0f23d-59cf-42b7-b80e-057e81ab53b3"
      },
      "execution_count": 35,
      "outputs": [
        {
          "output_type": "display_data",
          "data": {
            "text/plain": [
              "\n",
              "\tDesign-based t-test\n",
              "\n",
              "data:  cooccuring ~ Employment\n",
              "t = 12.187, df = 598, p-value < 2.2e-16\n",
              "alternative hypothesis: true difference in mean is not equal to 0\n",
              "95 percent confidence interval:\n",
              " 0.05402579 0.07478287\n",
              "sample estimates:\n",
              "difference in mean \n",
              "        0.06440433 \n"
            ]
          },
          "metadata": {}
        }
      ]
    },
    {
      "cell_type": "code",
      "source": [
        "svyttest(cooccuring~Employment , subset(survey_design,\n",
        " Employment %in% c(\"Emplyed\",\"NE, never worked\") ) )"
      ],
      "metadata": {
        "id": "rh80hiI9Gfm3",
        "colab": {
          "base_uri": "https://localhost:8080/",
          "height": 216
        },
        "outputId": "27ced677-aeb8-4cd8-9e8f-22b2e35b6974"
      },
      "execution_count": 36,
      "outputs": [
        {
          "output_type": "display_data",
          "data": {
            "text/plain": [
              "\n",
              "\tDesign-based t-test\n",
              "\n",
              "data:  cooccuring ~ Employment\n",
              "t = -3.4764, df = 580, p-value = 0.0005462\n",
              "alternative hypothesis: true difference in mean is not equal to 0\n",
              "95 percent confidence interval:\n",
              " -0.04273069 -0.01187827\n",
              "sample estimates:\n",
              "difference in mean \n",
              "       -0.02730448 \n"
            ]
          },
          "metadata": {}
        }
      ]
    },
    {
      "cell_type": "markdown",
      "source": [
        "##Co-occurrence of Chronic Pain and Anxiety/Depression by martial status"
      ],
      "metadata": {
        "id": "zTIBok-d7Hm_"
      }
    },
    {
      "cell_type": "code",
      "source": [
        "CO_by_matrrial <- srvyr_design %>%\n",
        "  # filter(cooccuring) %>%\n",
        "  group_by(Marital) %>%\n",
        "  summarise(count = sum(cooccuring==TRUE),\n",
        "            mean = round(survey_mean(cooccuring ,vartype = \"ci\", level = 0.95, proportion = TRUE, method = \"clopper-pearson\", na.rm=TRUE)*100 ,1),\n",
        "            total = round(survey_total(cooccuring ,vartype = \"ci\", level = 0.95, proportion = TRUE, method = \"clopper-pearson\", na.rm=TRUE)/1000000 ,1),\n",
        "            )\n",
        "\n",
        "# Print the result\n",
        "print(CO_by_matrrial)"
      ],
      "metadata": {
        "id": "3liJu98H-RDK",
        "colab": {
          "base_uri": "https://localhost:8080/"
        },
        "outputId": "c030c4e7-b5a4-4f13-ef02-fc5a056714a2"
      },
      "execution_count": 37,
      "outputs": [
        {
          "output_type": "stream",
          "name": "stdout",
          "text": [
            "\u001b[90m# A tibble: 6 × 8\u001b[39m\n",
            "  Marital               count  mean mean_low mean_upp total total_low total_upp\n",
            "  \u001b[3m\u001b[90m<chr>\u001b[39m\u001b[23m                 \u001b[3m\u001b[90m<int>\u001b[39m\u001b[23m \u001b[3m\u001b[90m<dbl>\u001b[39m\u001b[23m    \u001b[3m\u001b[90m<dbl>\u001b[39m\u001b[23m    \u001b[3m\u001b[90m<dbl>\u001b[39m\u001b[23m \u001b[3m\u001b[90m<dbl>\u001b[39m\u001b[23m     \u001b[3m\u001b[90m<dbl>\u001b[39m\u001b[23m     \u001b[3m\u001b[90m<dbl>\u001b[39m\u001b[23m\n",
            "\u001b[90m1\u001b[39m Divorced or separated  \u001b[4m2\u001b[24m087  15.2     14.4     16.1   3.8       3.5       4  \n",
            "\u001b[90m2\u001b[39m Living with partner     557   9.3      8.4     10.3   2         1.7       2.2\n",
            "\u001b[90m3\u001b[39m Married                \u001b[4m3\u001b[24m184   7.3      7        7.6   9.2       8.7       9.8\n",
            "\u001b[90m4\u001b[39m Never Married          \u001b[4m1\u001b[24m368   5.9      5.5      6.4   3.3       3.1       3.6\n",
            "\u001b[90m5\u001b[39m Widowed                \u001b[4m1\u001b[24m100  12.9     12       13.9   1.8       1.7       2  \n",
            "\u001b[90m6\u001b[39m \u001b[31mNA\u001b[39m                       96   8.4      6.6     10.8   0.3       0.2       0.3\n"
          ]
        }
      ]
    },
    {
      "cell_type": "markdown",
      "source": [
        "##Applying t-test between Martial groups"
      ],
      "metadata": {
        "id": "Pr0k-80M7aL6"
      }
    },
    {
      "cell_type": "code",
      "source": [
        "svyttest(cooccuring~Marital , subset(survey_design,\n",
        " Marital %in% c(\"Never Married\",\"Married\") ) )"
      ],
      "metadata": {
        "id": "pdDIHsvkG_2V",
        "colab": {
          "base_uri": "https://localhost:8080/",
          "height": 216
        },
        "outputId": "ba0b181a-a3e4-4342-a422-333588b0b189"
      },
      "execution_count": 38,
      "outputs": [
        {
          "output_type": "display_data",
          "data": {
            "text/plain": [
              "\n",
              "\tDesign-based t-test\n",
              "\n",
              "data:  cooccuring ~ Marital\n",
              "t = -5.4516, df = 601, p-value = 7.298e-08\n",
              "alternative hypothesis: true difference in mean is not equal to 0\n",
              "95 percent confidence interval:\n",
              " -0.018842647 -0.008862043\n",
              "sample estimates:\n",
              "difference in mean \n",
              "       -0.01385235 \n"
            ]
          },
          "metadata": {}
        }
      ]
    },
    {
      "cell_type": "code",
      "source": [
        "svyttest(cooccuring~Marital , subset(survey_design,\n",
        " Marital %in% c(\"Divorced or separated\",\"Married\") ) )"
      ],
      "metadata": {
        "id": "r5M7lRUyHNyX",
        "colab": {
          "base_uri": "https://localhost:8080/",
          "height": 216
        },
        "outputId": "8e530df9-8daf-4abc-db95-455b87cef66a"
      },
      "execution_count": 39,
      "outputs": [
        {
          "output_type": "display_data",
          "data": {
            "text/plain": [
              "\n",
              "\tDesign-based t-test\n",
              "\n",
              "data:  cooccuring ~ Marital\n",
              "t = -18.475, df = 601, p-value < 2.2e-16\n",
              "alternative hypothesis: true difference in mean is not equal to 0\n",
              "95 percent confidence interval:\n",
              " -0.08758039 -0.07074936\n",
              "sample estimates:\n",
              "difference in mean \n",
              "       -0.07916487 \n"
            ]
          },
          "metadata": {}
        }
      ]
    },
    {
      "cell_type": "code",
      "source": [
        "svyttest(cooccuring~Marital , subset(survey_design,\n",
        " Marital %in% c(\"Living with partner\",\"Married\") ) )"
      ],
      "metadata": {
        "id": "9b9yZ4MOHUCT",
        "colab": {
          "base_uri": "https://localhost:8080/",
          "height": 216
        },
        "outputId": "6aeaece1-3f5d-4fc5-abf1-c1a20a214d45"
      },
      "execution_count": 40,
      "outputs": [
        {
          "output_type": "display_data",
          "data": {
            "text/plain": [
              "\n",
              "\tDesign-based t-test\n",
              "\n",
              "data:  cooccuring ~ Marital\n",
              "t = -4.039, df = 602, p-value = 6.062e-05\n",
              "alternative hypothesis: true difference in mean is not equal to 0\n",
              "95 percent confidence interval:\n",
              " -0.02975683 -0.01028641\n",
              "sample estimates:\n",
              "difference in mean \n",
              "       -0.02002162 \n"
            ]
          },
          "metadata": {}
        }
      ]
    },
    {
      "cell_type": "code",
      "source": [
        "svyttest(cooccuring~Marital , subset(survey_design,\n",
        " Marital %in% c(\"Widowed\",\"Married\") ) )"
      ],
      "metadata": {
        "id": "XmsxC4mjHeEX",
        "colab": {
          "base_uri": "https://localhost:8080/",
          "height": 216
        },
        "outputId": "d80c7296-1dd2-4aea-ec1a-e8fc8720b55f"
      },
      "execution_count": 41,
      "outputs": [
        {
          "output_type": "display_data",
          "data": {
            "text/plain": [
              "\n",
              "\tDesign-based t-test\n",
              "\n",
              "data:  cooccuring ~ Marital\n",
              "t = 11.276, df = 599, p-value < 2.2e-16\n",
              "alternative hypothesis: true difference in mean is not equal to 0\n",
              "95 percent confidence interval:\n",
              " 0.04632417 0.06586314\n",
              "sample estimates:\n",
              "difference in mean \n",
              "        0.05609365 \n"
            ]
          },
          "metadata": {}
        }
      ]
    },
    {
      "cell_type": "markdown",
      "source": [
        "## Functional Limitations by Condition\n",
        "**Step 1:** Summarize the Impact of Functional Limitations by Condition\n",
        "We begin by summarizing the impact of various functional limitations—such as social limitations (SL), errand limitations (EL), work limitations (WL), poor general health (GH), and overnight hospital stays (ON)—across different health conditions.\n",
        "\n",
        "**Step 2:** Calculate Counts and Prevalence for Each Limitation\n",
        "Next, we calculate the number of individuals (count) experiencing each type of limitation under different conditions, such as \"Chronic Pain Only,\" \"A/D Only,\" and \"Neither.\" We also compute the mean prevalence of these limitations, expressed as a percentage with a 95% confidence interval, and estimate the total population affected, expressed in millions.\n",
        "\n",
        "- **Count:** Represents the number of individuals experiencing the specific limitation.\n",
        "- **Mean Prevalence:** Reflects the proportion of individuals affected, calculated using survey-weighted methods and expressed as a percentage.\n",
        "- **Total Population:** Provides an estimate of the population affected by the limitation, expressed in millions.\n",
        "\n"
      ],
      "metadata": {
        "id": "WKL1f8M_QZmt"
      }
    },
    {
      "cell_type": "code",
      "execution_count": 42,
      "metadata": {
        "id": "b89PPHC22TMa"
      },
      "outputs": [],
      "source": [
        "SL <- srvyr_design %>%\n",
        "  group_by(Condition) %>%\n",
        "  summarise(\n",
        "    count = sum(social  == TRUE,na.rm = TRUE),\n",
        "    mean = round(survey_mean(social  == TRUE,vartype = \"ci\", level = 0.95, proportion = TRUE, method = \"clopper-pearson\",  na.rm = TRUE)*100,2),\n",
        "    pop = round(survey_total(social  == TRUE,vartype = \"ci\", level = 0.95, proportion = TRUE, method = \"clopper-pearson\",  na.rm = TRUE) /1000000,2),\n",
        "  ) %>%\n",
        "  mutate(Type = \"SL\")\n",
        "\n",
        "EL <- srvyr_design %>%\n",
        "  group_by(Condition) %>%\n",
        "  summarise(\n",
        "    count = sum(erraned  == TRUE,na.rm = TRUE),\n",
        "    mean = round(survey_mean(erraned  == TRUE,vartype = \"ci\", level = 0.95, proportion = TRUE, method = \"clopper-pearson\",  na.rm = TRUE) *100,2),\n",
        "    pop = round(survey_total(erraned  == TRUE,vartype = \"ci\", level = 0.95, proportion = TRUE, method = \"clopper-pearson\",  na.rm = TRUE) /1000000,2),\n",
        "  )%>%\n",
        "  mutate(Type = \"EL\")\n",
        "\n",
        "WL <- srvyr_design %>%\n",
        "  group_by(Condition) %>%\n",
        "  summarise(\n",
        "    count = sum(work  == TRUE,na.rm = TRUE),\n",
        "    mean = round(survey_mean(work  == TRUE,vartype = \"ci\", level = 0.95, proportion = TRUE, method = \"clopper-pearson\",  na.rm = TRUE) *100,2),\n",
        "    pop = round(survey_total(work  == TRUE, vartype = \"ci\", level = 0.95, proportion = TRUE, method = \"clopper-pearson\", na.rm = TRUE) /1000000,2),\n",
        "  )%>%\n",
        "  mutate(Type = \"WL\")\n",
        "\n",
        "Helth.ds <- srvyr_design %>%\n",
        "  group_by(Condition) %>%\n",
        "  summarise(\n",
        "    count = sum(Health  == \"Poor\",na.rm = TRUE),\n",
        "    mean = round(survey_mean(Health  == \"Poor\",vartype = \"ci\", level = 0.95, proportion = TRUE, method = \"clopper-pearson\",  na.rm = TRUE)*100,2),\n",
        "    pop = round(survey_total(Health  == \"Poor\",vartype = \"ci\", level = 0.95, proportion = TRUE, method = \"clopper-pearson\",  na.rm = TRUE) /1000000,2),\n",
        "  )%>%\n",
        "    mutate(Type = \"GH\")\n",
        "\n",
        "Overnight.ds <- srvyr_design %>%\n",
        "  group_by(Condition) %>%\n",
        "  summarise(\n",
        "    count = sum(Overnight,na.rm = TRUE),\n",
        "    mean = round(survey_mean(Overnight,vartype = \"ci\", level = 0.95, proportion = TRUE, method = \"clopper-pearson\",  na.rm = TRUE)*100,2),\n",
        "    pop = round(survey_total(Overnight,vartype = \"ci\", level = 0.95, proportion = TRUE, method = \"clopper-pearson\",  na.rm = TRUE) /1000000,2),\n",
        "  )%>%\n",
        "    mutate(Type = \"ON\")\n",
        "\n",
        "limitation <- bind_rows(SL,EL,WL,Helth.ds,Overnight.ds)"
      ]
    },
    {
      "cell_type": "markdown",
      "source": [
        "##Chi-Square Tests for Association Between co-occurring pain and A/D with functional limitation\n",
        "To analyze the association between co-occurring with functional limitation, poor general health,overnhight jospital visit, we perform chi-square tests. These tests assess whether there is a significant relationship between them.\n"
      ],
      "metadata": {
        "id": "NKSOgEBdnJZl"
      }
    },
    {
      "cell_type": "code",
      "execution_count": 43,
      "metadata": {
        "id": "W0NUgW1qYrpZ",
        "colab": {
          "base_uri": "https://localhost:8080/",
          "height": 107
        },
        "outputId": "8013e5ae-f947-470c-b614-2c29837fa36d"
      },
      "outputs": [
        {
          "output_type": "display_data",
          "data": {
            "text/plain": [
              "\n",
              "\tPearson's X^2: Rao & Scott adjustment\n",
              "\n",
              "data:  svychisq(~social + cooccuring, design = survey_design)\n",
              "F = 5565.1, ndf = 1, ddf = 604, p-value < 2.2e-16\n"
            ]
          },
          "metadata": {}
        }
      ],
      "source": [
        "svychisq(~social + cooccuring, design = survey_design)"
      ]
    },
    {
      "cell_type": "code",
      "execution_count": 44,
      "metadata": {
        "id": "i5xDMZMwiAH3",
        "colab": {
          "base_uri": "https://localhost:8080/",
          "height": 107
        },
        "outputId": "85468830-e562-42fc-da04-387e28e32b46"
      },
      "outputs": [
        {
          "output_type": "display_data",
          "data": {
            "text/plain": [
              "\n",
              "\tPearson's X^2: Rao & Scott adjustment\n",
              "\n",
              "data:  svychisq(~erraned + cooccuring, design = survey_design)\n",
              "F = 3645.2, ndf = 1, ddf = 604, p-value < 2.2e-16\n"
            ]
          },
          "metadata": {}
        }
      ],
      "source": [
        "svychisq(~erraned + cooccuring, design = survey_design)"
      ]
    },
    {
      "cell_type": "code",
      "execution_count": 45,
      "metadata": {
        "id": "DIGfieeriWcE",
        "colab": {
          "base_uri": "https://localhost:8080/",
          "height": 107
        },
        "outputId": "cd6187d4-c50e-4f7a-c5c5-5acdcd5adf83"
      },
      "outputs": [
        {
          "output_type": "display_data",
          "data": {
            "text/plain": [
              "\n",
              "\tPearson's X^2: Rao & Scott adjustment\n",
              "\n",
              "data:  svychisq(~work + cooccuring, design = survey_design)\n",
              "F = 4980.6, ndf = 1, ddf = 604, p-value < 2.2e-16\n"
            ]
          },
          "metadata": {}
        }
      ],
      "source": [
        "svychisq(~work + cooccuring, design = survey_design)"
      ]
    },
    {
      "cell_type": "code",
      "execution_count": 60,
      "metadata": {
        "id": "Stq2a_okPqFA",
        "colab": {
          "base_uri": "https://localhost:8080/",
          "height": 107
        },
        "outputId": "734c46f1-eba1-49f6-e9b1-f34b3f1f7ac7"
      },
      "outputs": [
        {
          "output_type": "display_data",
          "data": {
            "text/plain": [
              "\n",
              "\tPearson's X^2: Rao & Scott adjustment\n",
              "\n",
              "data:  svychisq(~Health + cooccuring, design = survey_design, na.rm = TRUE)\n",
              "F = 4680.1, ndf = 1, ddf = 604, p-value < 2.2e-16\n"
            ]
          },
          "metadata": {}
        }
      ],
      "source": [
        "svychisq(~ Health + cooccuring, design = survey_design, na.rm =TRUE)"
      ]
    },
    {
      "cell_type": "code",
      "source": [
        "svychisq(~Overnight + cooccuring, design = survey_design)"
      ],
      "metadata": {
        "id": "XtOi-BxxP23l",
        "colab": {
          "base_uri": "https://localhost:8080/",
          "height": 107
        },
        "outputId": "8bedf46b-2f6f-4c0b-eeba-d2a6ae4d51b0"
      },
      "execution_count": 59,
      "outputs": [
        {
          "output_type": "display_data",
          "data": {
            "text/plain": [
              "\n",
              "\tPearson's X^2: Rao & Scott adjustment\n",
              "\n",
              "data:  svychisq(~Overnight + cooccuring, design = survey_design)\n",
              "F = 909.23, ndf = 1, ddf = 604, p-value < 2.2e-16\n"
            ]
          },
          "metadata": {}
        }
      ]
    },
    {
      "cell_type": "markdown",
      "source": [
        "##Applying Logistic regression model to interput the result"
      ],
      "metadata": {
        "id": "rqT39bI3oPMc"
      }
    },
    {
      "cell_type": "code",
      "source": [
        "# to compare between the chronic pain only with other conditions\n",
        "Dat <- survey_design$variables\n",
        "Dat$Condition <- factor(Dat$Condition ,levels = c( \"Chronic Pain Only\", \"A/D Only\",\"Both\",\"Neither\") )\n",
        "survey_design$variables <- Dat"
      ],
      "metadata": {
        "id": "10AypTqLcVLW"
      },
      "execution_count": 61,
      "outputs": []
    },
    {
      "cell_type": "markdown",
      "source": [
        "**Step 1:** Fit Logistic Regression Models for Each Functional Limitation\n",
        "We begin by fitting logistic regression models using the survey-weighted generalized linear model (`svyglm`) for each type of functional limitation—social limitations (SL), work limitations (WL), poor general health (GH), overnight hospital stays (ON), and errand limitations (EL). The response variable in each model is the specific functional limitation, and the predictor is the `Condition` variable (i.e., the health condition of the participants).\n",
        "\n",
        "**Step 2:** Analyze Model Summaries\n",
        "Next, we examine the summary output of each model to understand the relationship between the health condition and the likelihood of experiencing each type of functional limitation. The summary provides insights into the coefficients, standard errors, and statistical significance of the predictors.\n",
        "\n",
        "**Step 3:** Calculate and Interpret Odds Ratios\n",
        "To make the results more interpretable, we calculate the odds ratios by exponentiating the model coefficients using `exp(SL.m$coefficients)` (and similarly for other models). The odds ratios help us understand the magnitude of association between health conditions and functional limitations:\n",
        "\n",
        "- **Odds Ratio > 1:** Indicates a higher likelihood of experiencing the limitation compared to the reference condition.\n",
        "- **Odds Ratio < 1:** Indicates a lower likelihood of experiencing the limitation compared to the reference condition.\n",
        "\n",
        "Finally, we round the odds ratios to two decimal places for easier interpretation and reporting.\n"
      ],
      "metadata": {
        "id": "m9n6VgoUphkr"
      }
    },
    {
      "cell_type": "code",
      "source": [
        "SL.m <- svyglm(social~Condition,survey_design,family = binomial())\n",
        "summary(SL.m)\n",
        "round(exp(SL.m$coefficients) ,2)\n",
        "\n",
        "WL.m <- svyglm(work~Condition,survey_design,family = binomial())\n",
        "summary(WL.m)\n",
        "round(exp(WL.m$coefficients) ,2)\n",
        "\n",
        "GH.m <- svyglm(Health==\"Poor\"~Condition,survey_design,family = binomial())\n",
        "summary(GH.m)\n",
        "round(exp(GH.m$coefficients) ,2)\n",
        "\n",
        "ON.m <- svyglm(Overnight~Condition,survey_design,family = binomial())\n",
        "summary(ON.m)\n",
        "round(exp(ON.m$coefficients) ,2)\n",
        "\n",
        "EL.m <- svyglm(erraned~Condition,survey_design,family = binomial())\n",
        "summary(EL.m )\n",
        "round(exp(EL.m$coefficients) ,2)"
      ],
      "metadata": {
        "id": "UO9-ItTAZ8oC",
        "colab": {
          "base_uri": "https://localhost:8080/",
          "height": 1000
        },
        "outputId": "bffb4934-dccb-4223-8e99-43271daaded8"
      },
      "execution_count": 62,
      "outputs": [
        {
          "output_type": "stream",
          "name": "stderr",
          "text": [
            "Warning message in eval(family$initialize):\n",
            "“non-integer #successes in a binomial glm!”\n"
          ]
        },
        {
          "output_type": "display_data",
          "data": {
            "text/plain": [
              "\n",
              "Call:\n",
              "svyglm(formula = social ~ Condition, design = survey_design, \n",
              "    family = binomial())\n",
              "\n",
              "Survey design:\n",
              "svydesign(ids = ~PSU, strata = ~STRAT, weights = ~adj_w, data = nhis_combind, \n",
              "    nest = TRUE)\n",
              "\n",
              "Coefficients:\n",
              "                  Estimate Std. Error t value Pr(>|t|)    \n",
              "(Intercept)       -1.92166    0.03498  -54.93   <2e-16 ***\n",
              "ConditionA/D Only  0.54276    0.04662   11.64   <2e-16 ***\n",
              "ConditionBoth      1.50897    0.04506   33.49   <2e-16 ***\n",
              "ConditionNeither  -1.53187    0.04627  -33.11   <2e-16 ***\n",
              "---\n",
              "Signif. codes:  0 ‘***’ 0.001 ‘**’ 0.01 ‘*’ 0.05 ‘.’ 0.1 ‘ ’ 1\n",
              "\n",
              "(Dispersion parameter for binomial family taken to be 0.9999472)\n",
              "\n",
              "Number of Fisher Scoring iterations: 6\n"
            ]
          },
          "metadata": {}
        },
        {
          "output_type": "display_data",
          "data": {
            "text/html": [
              "<style>\n",
              ".dl-inline {width: auto; margin:0; padding: 0}\n",
              ".dl-inline>dt, .dl-inline>dd {float: none; width: auto; display: inline-block}\n",
              ".dl-inline>dt::after {content: \":\\0020\"; padding-right: .5ex}\n",
              ".dl-inline>dt:not(:first-of-type) {padding-left: .5ex}\n",
              "</style><dl class=dl-inline><dt>(Intercept)</dt><dd>0.15</dd><dt>ConditionA/D Only</dt><dd>1.72</dd><dt>ConditionBoth</dt><dd>4.52</dd><dt>ConditionNeither</dt><dd>0.22</dd></dl>\n"
            ],
            "text/markdown": "(Intercept)\n:   0.15ConditionA/D Only\n:   1.72ConditionBoth\n:   4.52ConditionNeither\n:   0.22\n\n",
            "text/latex": "\\begin{description*}\n\\item[(Intercept)] 0.15\n\\item[ConditionA/D Only] 1.72\n\\item[ConditionBoth] 4.52\n\\item[ConditionNeither] 0.22\n\\end{description*}\n",
            "text/plain": [
              "      (Intercept) ConditionA/D Only     ConditionBoth  ConditionNeither \n",
              "             0.15              1.72              4.52              0.22 "
            ]
          },
          "metadata": {}
        },
        {
          "output_type": "stream",
          "name": "stderr",
          "text": [
            "Warning message in eval(family$initialize):\n",
            "“non-integer #successes in a binomial glm!”\n"
          ]
        },
        {
          "output_type": "display_data",
          "data": {
            "text/plain": [
              "\n",
              "Call:\n",
              "svyglm(formula = work ~ Condition, design = survey_design, family = binomial())\n",
              "\n",
              "Survey design:\n",
              "svydesign(ids = ~PSU, strata = ~STRAT, weights = ~adj_w, data = nhis_combind, \n",
              "    nest = TRUE)\n",
              "\n",
              "Coefficients:\n",
              "                  Estimate Std. Error t value Pr(>|t|)    \n",
              "(Intercept)       -0.57144    0.02453  -23.29   <2e-16 ***\n",
              "ConditionA/D Only -0.72207    0.03566  -20.25   <2e-16 ***\n",
              "ConditionBoth      0.89929    0.03469   25.93   <2e-16 ***\n",
              "ConditionNeither  -1.54143    0.03000  -51.38   <2e-16 ***\n",
              "---\n",
              "Signif. codes:  0 ‘***’ 0.001 ‘**’ 0.01 ‘*’ 0.05 ‘.’ 0.1 ‘ ’ 1\n",
              "\n",
              "(Dispersion parameter for binomial family taken to be 1.000152)\n",
              "\n",
              "Number of Fisher Scoring iterations: 4\n"
            ]
          },
          "metadata": {}
        },
        {
          "output_type": "display_data",
          "data": {
            "text/html": [
              "<style>\n",
              ".dl-inline {width: auto; margin:0; padding: 0}\n",
              ".dl-inline>dt, .dl-inline>dd {float: none; width: auto; display: inline-block}\n",
              ".dl-inline>dt::after {content: \":\\0020\"; padding-right: .5ex}\n",
              ".dl-inline>dt:not(:first-of-type) {padding-left: .5ex}\n",
              "</style><dl class=dl-inline><dt>(Intercept)</dt><dd>0.56</dd><dt>ConditionA/D Only</dt><dd>0.49</dd><dt>ConditionBoth</dt><dd>2.46</dd><dt>ConditionNeither</dt><dd>0.21</dd></dl>\n"
            ],
            "text/markdown": "(Intercept)\n:   0.56ConditionA/D Only\n:   0.49ConditionBoth\n:   2.46ConditionNeither\n:   0.21\n\n",
            "text/latex": "\\begin{description*}\n\\item[(Intercept)] 0.56\n\\item[ConditionA/D Only] 0.49\n\\item[ConditionBoth] 2.46\n\\item[ConditionNeither] 0.21\n\\end{description*}\n",
            "text/plain": [
              "      (Intercept) ConditionA/D Only     ConditionBoth  ConditionNeither \n",
              "             0.56              0.49              2.46              0.21 "
            ]
          },
          "metadata": {}
        },
        {
          "output_type": "stream",
          "name": "stderr",
          "text": [
            "Warning message in eval(family$initialize):\n",
            "“non-integer #successes in a binomial glm!”\n"
          ]
        },
        {
          "output_type": "display_data",
          "data": {
            "text/plain": [
              "\n",
              "Call:\n",
              "svyglm(formula = Health == \"Poor\" ~ Condition, design = survey_design, \n",
              "    family = binomial())\n",
              "\n",
              "Survey design:\n",
              "svydesign(ids = ~PSU, strata = ~STRAT, weights = ~adj_w, data = nhis_combind, \n",
              "    nest = TRUE)\n",
              "\n",
              "Coefficients:\n",
              "                  Estimate Std. Error t value Pr(>|t|)    \n",
              "(Intercept)       -0.92823    0.02531  -36.68   <2e-16 ***\n",
              "ConditionA/D Only -0.77033    0.04088  -18.84   <2e-16 ***\n",
              "ConditionBoth      0.79424    0.03565   22.28   <2e-16 ***\n",
              "ConditionNeither  -1.67679    0.03259  -51.45   <2e-16 ***\n",
              "---\n",
              "Signif. codes:  0 ‘***’ 0.001 ‘**’ 0.01 ‘*’ 0.05 ‘.’ 0.1 ‘ ’ 1\n",
              "\n",
              "(Dispersion parameter for binomial family taken to be 1.000056)\n",
              "\n",
              "Number of Fisher Scoring iterations: 5\n"
            ]
          },
          "metadata": {}
        },
        {
          "output_type": "display_data",
          "data": {
            "text/html": [
              "<style>\n",
              ".dl-inline {width: auto; margin:0; padding: 0}\n",
              ".dl-inline>dt, .dl-inline>dd {float: none; width: auto; display: inline-block}\n",
              ".dl-inline>dt::after {content: \":\\0020\"; padding-right: .5ex}\n",
              ".dl-inline>dt:not(:first-of-type) {padding-left: .5ex}\n",
              "</style><dl class=dl-inline><dt>(Intercept)</dt><dd>0.4</dd><dt>ConditionA/D Only</dt><dd>0.46</dd><dt>ConditionBoth</dt><dd>2.21</dd><dt>ConditionNeither</dt><dd>0.19</dd></dl>\n"
            ],
            "text/markdown": "(Intercept)\n:   0.4ConditionA/D Only\n:   0.46ConditionBoth\n:   2.21ConditionNeither\n:   0.19\n\n",
            "text/latex": "\\begin{description*}\n\\item[(Intercept)] 0.4\n\\item[ConditionA/D Only] 0.46\n\\item[ConditionBoth] 2.21\n\\item[ConditionNeither] 0.19\n\\end{description*}\n",
            "text/plain": [
              "      (Intercept) ConditionA/D Only     ConditionBoth  ConditionNeither \n",
              "             0.40              0.46              2.21              0.19 "
            ]
          },
          "metadata": {}
        },
        {
          "output_type": "stream",
          "name": "stderr",
          "text": [
            "Warning message in eval(family$initialize):\n",
            "“non-integer #successes in a binomial glm!”\n"
          ]
        },
        {
          "output_type": "display_data",
          "data": {
            "text/plain": [
              "\n",
              "Call:\n",
              "svyglm(formula = Overnight ~ Condition, design = survey_design, \n",
              "    family = binomial())\n",
              "\n",
              "Survey design:\n",
              "svydesign(ids = ~PSU, strata = ~STRAT, weights = ~adj_w, data = nhis_combind, \n",
              "    nest = TRUE)\n",
              "\n",
              "Coefficients:\n",
              "                  Estimate Std. Error t value Pr(>|t|)    \n",
              "(Intercept)       -1.82490    0.03043 -59.962  < 2e-16 ***\n",
              "ConditionA/D Only -0.38710    0.04792  -8.078 3.62e-15 ***\n",
              "ConditionBoth      0.39732    0.04592   8.652  < 2e-16 ***\n",
              "ConditionNeither  -0.92378    0.03633 -25.426  < 2e-16 ***\n",
              "---\n",
              "Signif. codes:  0 ‘***’ 0.001 ‘**’ 0.01 ‘*’ 0.05 ‘.’ 0.1 ‘ ’ 1\n",
              "\n",
              "(Dispersion parameter for binomial family taken to be 1.00011)\n",
              "\n",
              "Number of Fisher Scoring iterations: 5\n"
            ]
          },
          "metadata": {}
        },
        {
          "output_type": "display_data",
          "data": {
            "text/html": [
              "<style>\n",
              ".dl-inline {width: auto; margin:0; padding: 0}\n",
              ".dl-inline>dt, .dl-inline>dd {float: none; width: auto; display: inline-block}\n",
              ".dl-inline>dt::after {content: \":\\0020\"; padding-right: .5ex}\n",
              ".dl-inline>dt:not(:first-of-type) {padding-left: .5ex}\n",
              "</style><dl class=dl-inline><dt>(Intercept)</dt><dd>0.16</dd><dt>ConditionA/D Only</dt><dd>0.68</dd><dt>ConditionBoth</dt><dd>1.49</dd><dt>ConditionNeither</dt><dd>0.4</dd></dl>\n"
            ],
            "text/markdown": "(Intercept)\n:   0.16ConditionA/D Only\n:   0.68ConditionBoth\n:   1.49ConditionNeither\n:   0.4\n\n",
            "text/latex": "\\begin{description*}\n\\item[(Intercept)] 0.16\n\\item[ConditionA/D Only] 0.68\n\\item[ConditionBoth] 1.49\n\\item[ConditionNeither] 0.4\n\\end{description*}\n",
            "text/plain": [
              "      (Intercept) ConditionA/D Only     ConditionBoth  ConditionNeither \n",
              "             0.16              0.68              1.49              0.40 "
            ]
          },
          "metadata": {}
        },
        {
          "output_type": "stream",
          "name": "stderr",
          "text": [
            "Warning message in eval(family$initialize):\n",
            "“non-integer #successes in a binomial glm!”\n"
          ]
        },
        {
          "output_type": "display_data",
          "data": {
            "text/plain": [
              "\n",
              "Call:\n",
              "svyglm(formula = erraned ~ Condition, design = survey_design, \n",
              "    family = binomial())\n",
              "\n",
              "Survey design:\n",
              "svydesign(ids = ~PSU, strata = ~STRAT, weights = ~adj_w, data = nhis_combind, \n",
              "    nest = TRUE)\n",
              "\n",
              "Coefficients:\n",
              "                  Estimate Std. Error t value Pr(>|t|)    \n",
              "(Intercept)       -1.86213    0.03248 -57.324  < 2e-16 ***\n",
              "ConditionA/D Only -0.12822    0.04942  -2.594  0.00971 ** \n",
              "ConditionBoth      1.02484    0.04376  23.422  < 2e-16 ***\n",
              "ConditionNeither  -1.49306    0.04232 -35.282  < 2e-16 ***\n",
              "---\n",
              "Signif. codes:  0 ‘***’ 0.001 ‘**’ 0.01 ‘*’ 0.05 ‘.’ 0.1 ‘ ’ 1\n",
              "\n",
              "(Dispersion parameter for binomial family taken to be 1.000046)\n",
              "\n",
              "Number of Fisher Scoring iterations: 6\n"
            ]
          },
          "metadata": {}
        },
        {
          "output_type": "display_data",
          "data": {
            "text/html": [
              "<style>\n",
              ".dl-inline {width: auto; margin:0; padding: 0}\n",
              ".dl-inline>dt, .dl-inline>dd {float: none; width: auto; display: inline-block}\n",
              ".dl-inline>dt::after {content: \":\\0020\"; padding-right: .5ex}\n",
              ".dl-inline>dt:not(:first-of-type) {padding-left: .5ex}\n",
              "</style><dl class=dl-inline><dt>(Intercept)</dt><dd>0.16</dd><dt>ConditionA/D Only</dt><dd>0.88</dd><dt>ConditionBoth</dt><dd>2.79</dd><dt>ConditionNeither</dt><dd>0.22</dd></dl>\n"
            ],
            "text/markdown": "(Intercept)\n:   0.16ConditionA/D Only\n:   0.88ConditionBoth\n:   2.79ConditionNeither\n:   0.22\n\n",
            "text/latex": "\\begin{description*}\n\\item[(Intercept)] 0.16\n\\item[ConditionA/D Only] 0.88\n\\item[ConditionBoth] 2.79\n\\item[ConditionNeither] 0.22\n\\end{description*}\n",
            "text/plain": [
              "      (Intercept) ConditionA/D Only     ConditionBoth  ConditionNeither \n",
              "             0.16              0.88              2.79              0.22 "
            ]
          },
          "metadata": {}
        }
      ]
    },
    {
      "cell_type": "code",
      "source": [
        "# to compare between the chronic pain only with other conditions\n",
        "Dat <- survey_design$variables\n",
        "Dat$Condition <- factor(Dat$Condition ,levels = c(\"A/D Only\",\"Chronic Pain Only\",\"Both\",\"Neither\") )\n",
        "survey_design$variables <- Dat"
      ],
      "metadata": {
        "id": "Xusd6-b1qWjq"
      },
      "execution_count": 63,
      "outputs": []
    },
    {
      "cell_type": "code",
      "source": [
        "SL.m <- svyglm(social~Condition,survey_design,family = binomial())\n",
        "summary(SL.m)\n",
        "round(exp(SL.m$coefficients) ,2)\n",
        "\n",
        "WL.m <- svyglm(work~Condition,survey_design,family = binomial())\n",
        "summary(WL.m)\n",
        "round(exp(WL.m$coefficients) ,2)\n",
        "\n",
        "GH.m <- svyglm(Health==\"Poor\"~Condition,survey_design,family = binomial())\n",
        "summary(GH.m)\n",
        "round(exp(GH.m$coefficients) ,2)\n",
        "\n",
        "ON.m <- svyglm(Overnight~Condition,survey_design,family = binomial())\n",
        "summary(ON.m)\n",
        "round(exp(ON.m$coefficients) ,2)\n",
        "\n",
        "EL.m <- svyglm(erraned~Condition,survey_design,family = binomial())\n",
        "summary(EL.m )\n",
        "round(exp(EL.m$coefficients) ,2)"
      ],
      "metadata": {
        "colab": {
          "base_uri": "https://localhost:8080/",
          "height": 1000
        },
        "id": "6DdD6s0pqeeM",
        "outputId": "0b1aad61-ec45-4bd1-ea84-cabc8c88b5bd"
      },
      "execution_count": 64,
      "outputs": [
        {
          "output_type": "stream",
          "name": "stderr",
          "text": [
            "Warning message in eval(family$initialize):\n",
            "“non-integer #successes in a binomial glm!”\n"
          ]
        },
        {
          "output_type": "display_data",
          "data": {
            "text/plain": [
              "\n",
              "Call:\n",
              "svyglm(formula = social ~ Condition, design = survey_design, \n",
              "    family = binomial())\n",
              "\n",
              "Survey design:\n",
              "svydesign(ids = ~PSU, strata = ~STRAT, weights = ~adj_w, data = nhis_combind, \n",
              "    nest = TRUE)\n",
              "\n",
              "Coefficients:\n",
              "                           Estimate Std. Error t value Pr(>|t|)    \n",
              "(Intercept)                -1.37890    0.03240  -42.55   <2e-16 ***\n",
              "ConditionChronic Pain Only -0.54276    0.04662  -11.64   <2e-16 ***\n",
              "ConditionBoth               0.96621    0.04226   22.86   <2e-16 ***\n",
              "ConditionNeither           -2.07463    0.04383  -47.34   <2e-16 ***\n",
              "---\n",
              "Signif. codes:  0 ‘***’ 0.001 ‘**’ 0.01 ‘*’ 0.05 ‘.’ 0.1 ‘ ’ 1\n",
              "\n",
              "(Dispersion parameter for binomial family taken to be 0.9999472)\n",
              "\n",
              "Number of Fisher Scoring iterations: 6\n"
            ]
          },
          "metadata": {}
        },
        {
          "output_type": "display_data",
          "data": {
            "text/html": [
              "<style>\n",
              ".dl-inline {width: auto; margin:0; padding: 0}\n",
              ".dl-inline>dt, .dl-inline>dd {float: none; width: auto; display: inline-block}\n",
              ".dl-inline>dt::after {content: \":\\0020\"; padding-right: .5ex}\n",
              ".dl-inline>dt:not(:first-of-type) {padding-left: .5ex}\n",
              "</style><dl class=dl-inline><dt>(Intercept)</dt><dd>0.25</dd><dt>ConditionChronic Pain Only</dt><dd>0.58</dd><dt>ConditionBoth</dt><dd>2.63</dd><dt>ConditionNeither</dt><dd>0.13</dd></dl>\n"
            ],
            "text/markdown": "(Intercept)\n:   0.25ConditionChronic Pain Only\n:   0.58ConditionBoth\n:   2.63ConditionNeither\n:   0.13\n\n",
            "text/latex": "\\begin{description*}\n\\item[(Intercept)] 0.25\n\\item[ConditionChronic Pain Only] 0.58\n\\item[ConditionBoth] 2.63\n\\item[ConditionNeither] 0.13\n\\end{description*}\n",
            "text/plain": [
              "               (Intercept) ConditionChronic Pain Only \n",
              "                      0.25                       0.58 \n",
              "             ConditionBoth           ConditionNeither \n",
              "                      2.63                       0.13 "
            ]
          },
          "metadata": {}
        },
        {
          "output_type": "stream",
          "name": "stderr",
          "text": [
            "Warning message in eval(family$initialize):\n",
            "“non-integer #successes in a binomial glm!”\n"
          ]
        },
        {
          "output_type": "display_data",
          "data": {
            "text/plain": [
              "\n",
              "Call:\n",
              "svyglm(formula = work ~ Condition, design = survey_design, family = binomial())\n",
              "\n",
              "Survey design:\n",
              "svydesign(ids = ~PSU, strata = ~STRAT, weights = ~adj_w, data = nhis_combind, \n",
              "    nest = TRUE)\n",
              "\n",
              "Coefficients:\n",
              "                           Estimate Std. Error t value Pr(>|t|)    \n",
              "(Intercept)                -1.29351    0.02929  -44.16   <2e-16 ***\n",
              "ConditionChronic Pain Only  0.72207    0.03566   20.25   <2e-16 ***\n",
              "ConditionBoth               1.62136    0.03868   41.92   <2e-16 ***\n",
              "ConditionNeither           -0.81936    0.03422  -23.94   <2e-16 ***\n",
              "---\n",
              "Signif. codes:  0 ‘***’ 0.001 ‘**’ 0.01 ‘*’ 0.05 ‘.’ 0.1 ‘ ’ 1\n",
              "\n",
              "(Dispersion parameter for binomial family taken to be 1.000152)\n",
              "\n",
              "Number of Fisher Scoring iterations: 4\n"
            ]
          },
          "metadata": {}
        },
        {
          "output_type": "display_data",
          "data": {
            "text/html": [
              "<style>\n",
              ".dl-inline {width: auto; margin:0; padding: 0}\n",
              ".dl-inline>dt, .dl-inline>dd {float: none; width: auto; display: inline-block}\n",
              ".dl-inline>dt::after {content: \":\\0020\"; padding-right: .5ex}\n",
              ".dl-inline>dt:not(:first-of-type) {padding-left: .5ex}\n",
              "</style><dl class=dl-inline><dt>(Intercept)</dt><dd>0.27</dd><dt>ConditionChronic Pain Only</dt><dd>2.06</dd><dt>ConditionBoth</dt><dd>5.06</dd><dt>ConditionNeither</dt><dd>0.44</dd></dl>\n"
            ],
            "text/markdown": "(Intercept)\n:   0.27ConditionChronic Pain Only\n:   2.06ConditionBoth\n:   5.06ConditionNeither\n:   0.44\n\n",
            "text/latex": "\\begin{description*}\n\\item[(Intercept)] 0.27\n\\item[ConditionChronic Pain Only] 2.06\n\\item[ConditionBoth] 5.06\n\\item[ConditionNeither] 0.44\n\\end{description*}\n",
            "text/plain": [
              "               (Intercept) ConditionChronic Pain Only \n",
              "                      0.27                       2.06 \n",
              "             ConditionBoth           ConditionNeither \n",
              "                      5.06                       0.44 "
            ]
          },
          "metadata": {}
        },
        {
          "output_type": "stream",
          "name": "stderr",
          "text": [
            "Warning message in eval(family$initialize):\n",
            "“non-integer #successes in a binomial glm!”\n"
          ]
        },
        {
          "output_type": "display_data",
          "data": {
            "text/plain": [
              "\n",
              "Call:\n",
              "svyglm(formula = Health == \"Poor\" ~ Condition, design = survey_design, \n",
              "    family = binomial())\n",
              "\n",
              "Survey design:\n",
              "svydesign(ids = ~PSU, strata = ~STRAT, weights = ~adj_w, data = nhis_combind, \n",
              "    nest = TRUE)\n",
              "\n",
              "Coefficients:\n",
              "                           Estimate Std. Error t value Pr(>|t|)    \n",
              "(Intercept)                -1.69855    0.03528  -48.15   <2e-16 ***\n",
              "ConditionChronic Pain Only  0.77033    0.04088   18.84   <2e-16 ***\n",
              "ConditionBoth               1.56457    0.04231   36.98   <2e-16 ***\n",
              "ConditionNeither           -0.90647    0.03774  -24.02   <2e-16 ***\n",
              "---\n",
              "Signif. codes:  0 ‘***’ 0.001 ‘**’ 0.01 ‘*’ 0.05 ‘.’ 0.1 ‘ ’ 1\n",
              "\n",
              "(Dispersion parameter for binomial family taken to be 1.000056)\n",
              "\n",
              "Number of Fisher Scoring iterations: 5\n"
            ]
          },
          "metadata": {}
        },
        {
          "output_type": "display_data",
          "data": {
            "text/html": [
              "<style>\n",
              ".dl-inline {width: auto; margin:0; padding: 0}\n",
              ".dl-inline>dt, .dl-inline>dd {float: none; width: auto; display: inline-block}\n",
              ".dl-inline>dt::after {content: \":\\0020\"; padding-right: .5ex}\n",
              ".dl-inline>dt:not(:first-of-type) {padding-left: .5ex}\n",
              "</style><dl class=dl-inline><dt>(Intercept)</dt><dd>0.18</dd><dt>ConditionChronic Pain Only</dt><dd>2.16</dd><dt>ConditionBoth</dt><dd>4.78</dd><dt>ConditionNeither</dt><dd>0.4</dd></dl>\n"
            ],
            "text/markdown": "(Intercept)\n:   0.18ConditionChronic Pain Only\n:   2.16ConditionBoth\n:   4.78ConditionNeither\n:   0.4\n\n",
            "text/latex": "\\begin{description*}\n\\item[(Intercept)] 0.18\n\\item[ConditionChronic Pain Only] 2.16\n\\item[ConditionBoth] 4.78\n\\item[ConditionNeither] 0.4\n\\end{description*}\n",
            "text/plain": [
              "               (Intercept) ConditionChronic Pain Only \n",
              "                      0.18                       2.16 \n",
              "             ConditionBoth           ConditionNeither \n",
              "                      4.78                       0.40 "
            ]
          },
          "metadata": {}
        },
        {
          "output_type": "stream",
          "name": "stderr",
          "text": [
            "Warning message in eval(family$initialize):\n",
            "“non-integer #successes in a binomial glm!”\n"
          ]
        },
        {
          "output_type": "display_data",
          "data": {
            "text/plain": [
              "\n",
              "Call:\n",
              "svyglm(formula = Overnight ~ Condition, design = survey_design, \n",
              "    family = binomial())\n",
              "\n",
              "Survey design:\n",
              "svydesign(ids = ~PSU, strata = ~STRAT, weights = ~adj_w, data = nhis_combind, \n",
              "    nest = TRUE)\n",
              "\n",
              "Coefficients:\n",
              "                           Estimate Std. Error t value Pr(>|t|)    \n",
              "(Intercept)                -2.21200    0.03824 -57.850  < 2e-16 ***\n",
              "ConditionChronic Pain Only  0.38710    0.04792   8.078 3.62e-15 ***\n",
              "ConditionBoth               0.78442    0.04907  15.987  < 2e-16 ***\n",
              "ConditionNeither           -0.53668    0.04311 -12.450  < 2e-16 ***\n",
              "---\n",
              "Signif. codes:  0 ‘***’ 0.001 ‘**’ 0.01 ‘*’ 0.05 ‘.’ 0.1 ‘ ’ 1\n",
              "\n",
              "(Dispersion parameter for binomial family taken to be 1.00011)\n",
              "\n",
              "Number of Fisher Scoring iterations: 5\n"
            ]
          },
          "metadata": {}
        },
        {
          "output_type": "display_data",
          "data": {
            "text/html": [
              "<style>\n",
              ".dl-inline {width: auto; margin:0; padding: 0}\n",
              ".dl-inline>dt, .dl-inline>dd {float: none; width: auto; display: inline-block}\n",
              ".dl-inline>dt::after {content: \":\\0020\"; padding-right: .5ex}\n",
              ".dl-inline>dt:not(:first-of-type) {padding-left: .5ex}\n",
              "</style><dl class=dl-inline><dt>(Intercept)</dt><dd>0.11</dd><dt>ConditionChronic Pain Only</dt><dd>1.47</dd><dt>ConditionBoth</dt><dd>2.19</dd><dt>ConditionNeither</dt><dd>0.58</dd></dl>\n"
            ],
            "text/markdown": "(Intercept)\n:   0.11ConditionChronic Pain Only\n:   1.47ConditionBoth\n:   2.19ConditionNeither\n:   0.58\n\n",
            "text/latex": "\\begin{description*}\n\\item[(Intercept)] 0.11\n\\item[ConditionChronic Pain Only] 1.47\n\\item[ConditionBoth] 2.19\n\\item[ConditionNeither] 0.58\n\\end{description*}\n",
            "text/plain": [
              "               (Intercept) ConditionChronic Pain Only \n",
              "                      0.11                       1.47 \n",
              "             ConditionBoth           ConditionNeither \n",
              "                      2.19                       0.58 "
            ]
          },
          "metadata": {}
        },
        {
          "output_type": "stream",
          "name": "stderr",
          "text": [
            "Warning message in eval(family$initialize):\n",
            "“non-integer #successes in a binomial glm!”\n"
          ]
        },
        {
          "output_type": "display_data",
          "data": {
            "text/plain": [
              "\n",
              "Call:\n",
              "svyglm(formula = erraned ~ Condition, design = survey_design, \n",
              "    family = binomial())\n",
              "\n",
              "Survey design:\n",
              "svydesign(ids = ~PSU, strata = ~STRAT, weights = ~adj_w, data = nhis_combind, \n",
              "    nest = TRUE)\n",
              "\n",
              "Coefficients:\n",
              "                           Estimate Std. Error t value Pr(>|t|)    \n",
              "(Intercept)                -1.99035    0.03897 -51.078  < 2e-16 ***\n",
              "ConditionChronic Pain Only  0.12822    0.04942   2.594  0.00971 ** \n",
              "ConditionBoth               1.15306    0.04770  24.173  < 2e-16 ***\n",
              "ConditionNeither           -1.36483    0.04720 -28.918  < 2e-16 ***\n",
              "---\n",
              "Signif. codes:  0 ‘***’ 0.001 ‘**’ 0.01 ‘*’ 0.05 ‘.’ 0.1 ‘ ’ 1\n",
              "\n",
              "(Dispersion parameter for binomial family taken to be 1.000046)\n",
              "\n",
              "Number of Fisher Scoring iterations: 6\n"
            ]
          },
          "metadata": {}
        },
        {
          "output_type": "display_data",
          "data": {
            "text/html": [
              "<style>\n",
              ".dl-inline {width: auto; margin:0; padding: 0}\n",
              ".dl-inline>dt, .dl-inline>dd {float: none; width: auto; display: inline-block}\n",
              ".dl-inline>dt::after {content: \":\\0020\"; padding-right: .5ex}\n",
              ".dl-inline>dt:not(:first-of-type) {padding-left: .5ex}\n",
              "</style><dl class=dl-inline><dt>(Intercept)</dt><dd>0.14</dd><dt>ConditionChronic Pain Only</dt><dd>1.14</dd><dt>ConditionBoth</dt><dd>3.17</dd><dt>ConditionNeither</dt><dd>0.26</dd></dl>\n"
            ],
            "text/markdown": "(Intercept)\n:   0.14ConditionChronic Pain Only\n:   1.14ConditionBoth\n:   3.17ConditionNeither\n:   0.26\n\n",
            "text/latex": "\\begin{description*}\n\\item[(Intercept)] 0.14\n\\item[ConditionChronic Pain Only] 1.14\n\\item[ConditionBoth] 3.17\n\\item[ConditionNeither] 0.26\n\\end{description*}\n",
            "text/plain": [
              "               (Intercept) ConditionChronic Pain Only \n",
              "                      0.14                       1.14 \n",
              "             ConditionBoth           ConditionNeither \n",
              "                      3.17                       0.26 "
            ]
          },
          "metadata": {}
        }
      ]
    },
    {
      "cell_type": "markdown",
      "source": [
        "\n",
        "##Visualizing Functional Limitations Across Health Conditions"
      ],
      "metadata": {
        "id": "hIOtOAFAqgo4"
      }
    },
    {
      "cell_type": "code",
      "source": [
        "# Define custom labels for each facet\n",
        "custom_labels <- c(\n",
        "   \"SL\" = \"Difficulty participating in social activity\",\n",
        "   \"EL\" = \"Difficulty doing errands alone\",\n",
        "   \"WL\" = \"Work limited due to health problems\",\n",
        "   \"GH\" = \"Reporting poor general health\",\n",
        "   \"ON\" = \"Reporting overnight visit\"\n",
        ")\n",
        "wrap_labels <- function(labels, width = 20) {\n",
        "  sapply(labels, function(x) {\n",
        "    paste(strwrap(x, width = width), collapse = \"\\n\")\n",
        "  })\n",
        "}\n",
        "# Create the bar chart with facets\n",
        "plot <- ggplot(limitation, aes(x = Condition, y = mean, fill = Condition)) +\n",
        "  geom_bar(stat = \"identity\", position = \"dodge\") +\n",
        "    geom_text(aes(label = sprintf(\"%.1f%%\", mean)),\n",
        "            position = position_dodge(width = 0.9),\n",
        "            vjust = -0.5,\n",
        "            size = 3.5) +  # Adjust size as needed\n",
        "  facet_wrap(~ Type, ncol = 5, scales = \"fixed\", labeller = labeller(Type = wrap_labels(custom_labels))) +  # Set scales to fixed for consistent y-axis\n",
        "  scale_fill_manual(values = c(\"blue\", \"lightblue\", \"darkblue\", \"gray\")) +\n",
        "  scale_y_continuous(limits = c(0, 100)) +  # Set y-axis limits from 0 to 100\n",
        "  labs(\n",
        "    # title = \"Prevalence of Conditions by Type\",\n",
        "    x = \"Condition\",\n",
        "    y = \"Prevalence (%)\",\n",
        "    fill = \"Condition\"\n",
        "  ) +\n",
        "  theme_minimal() +\n",
        "  theme(\n",
        "    axis.text.x = element_text(angle = 45, hjust = 1),  # Rotate x-axis labels if needed\n",
        "    strip.text = element_text(size = 10),  # Adjust facet labels size\n",
        "    legend.position = \"bottom\",  # Position legend below the plot\n",
        "    plot.title = element_text(size = 16, face = \"bold\"),  # Increase title size\n",
        "    axis.title = element_text(size = 14),  # Increase axis titles size\n",
        "    axis.text = element_text(size = 12),  # Increase axis text size\n",
        "    panel.spacing = unit(1, \"lines\"),  # Increase space between facets\n",
        "    plot.margin = margin(1, 1, 1, 1, \"cm\")  # Increase space around the plot\n",
        "  )\n",
        "\n",
        "# Save the plot with a 16:9 aspect ratio\n",
        "ggsave(\"functional_limitation.png\", plot, width = 16, height = 9, units = \"in\", dpi = 300)"
      ],
      "metadata": {
        "id": "0wKBUxssL8ks"
      },
      "execution_count": 65,
      "outputs": []
    },
    {
      "cell_type": "markdown",
      "source": [
        "###Visualizing social Limitations Across Health Conditions"
      ],
      "metadata": {
        "id": "w5THIBapqyto"
      }
    },
    {
      "cell_type": "code",
      "source": [
        "plot_SL <- ggplot(SL, aes(x = Condition, y = mean, fill = Condition)) +\n",
        "  geom_bar(stat = \"identity\", position = \"dodge\", width = 0.7) +\n",
        "  geom_text(aes(label = sprintf(\"%.2f%%\", mean)), vjust = -0.5) +\n",
        "  scale_fill_manual(values = c(\"#404343\", \"#000782\", \"#000101\", \"#BDC4CE\")) +\n",
        "  scale_y_continuous(labels = scales::percent_format(scale = 1), limits = c(0, 100)) +\n",
        "  labs(title = \"Difficulty Participating in Social Activity\", x = \"Condition\", y = \"Prevalence (%)\") +\n",
        "  theme_minimal(base_size = 15) +\n",
        "  theme(\n",
        "    plot.title = element_text(size = 16, face = \"bold\", hjust = 0.5),\n",
        "    axis.title.x = element_text(size = 14),\n",
        "    axis.title.y = element_text(size = 14),\n",
        "    axis.text.x = element_text(size = 12, angle = 45, hjust = 1),\n",
        "    axis.text.y = element_text(size = 12),\n",
        "    legend.title = element_blank(),\n",
        "    legend.text = element_text(size = 12),\n",
        "    legend.position = \"top\",\n",
        "    panel.grid.major = element_blank(),\n",
        "    panel.grid.minor = element_blank()\n",
        "  )\n",
        "  plot_SL"
      ],
      "metadata": {
        "id": "iT6CEzkmg1ur",
        "colab": {
          "base_uri": "https://localhost:8080/",
          "height": 437
        },
        "outputId": "a6c07c32-0b6e-453d-8a39-d6e4b150831d"
      },
      "execution_count": 66,
      "outputs": [
        {
          "output_type": "display_data",
          "data": {
            "text/plain": [
              "plot without title"
            ],
            "image/png": "[encoded data removed]"
          },
          "metadata": {
            "image/png": {
              "width": 420,
              "height": 420
            }
          }
        }
      ]
    },
    {
      "cell_type": "markdown",
      "source": [
        "###Visualizing eraned Limitations Across Health Conditions"
      ],
      "metadata": {
        "id": "m59Tkyq_rCnt"
      }
    },
    {
      "cell_type": "code",
      "source": [
        "plot_EL <- ggplot(EL, aes(x = Condition, y = mean, fill = Condition)) +\n",
        "  geom_bar(stat = \"identity\", position = \"dodge\", width = 0.7) +\n",
        "  geom_text(aes(label = sprintf(\"%.2f%%\", mean)), vjust = -0.5) +\n",
        "  scale_fill_manual(values = c(\"#404343\", \"#000782\", \"#000101\", \"#BDC4CE\")) +\n",
        "  scale_y_continuous(labels = scales::percent_format(scale = 1), limits = c(0, 100)) +\n",
        "  labs(title = \"Difficulty Doing Errands Alone\", x = \"Condition\", y = \"Prevalence (%)\") +\n",
        "  theme_minimal(base_size = 15) +\n",
        "  theme(\n",
        "    plot.title = element_text(size = 16, face = \"bold\", hjust = 0.5),\n",
        "    axis.title.x = element_text(size = 14),\n",
        "    axis.title.y = element_text(size = 14),\n",
        "    axis.text.x = element_text(size = 12, angle = 45, hjust = 1),\n",
        "    axis.text.y = element_text(size = 12),\n",
        "    legend.title = element_blank(),\n",
        "    legend.text = element_text(size = 12),\n",
        "    legend.position = \"top\",\n",
        "    panel.grid.major = element_blank(),\n",
        "    panel.grid.minor = element_blank()\n",
        "  )\n",
        "plot_EL"
      ],
      "metadata": {
        "id": "JBXGMHkWn-Ys",
        "colab": {
          "base_uri": "https://localhost:8080/",
          "height": 437
        },
        "outputId": "27d5d4b8-7de8-49c6-bd7c-762f498f1133"
      },
      "execution_count": 67,
      "outputs": [
        {
          "output_type": "display_data",
          "data": {
            "text/plain": [
              "plot without title"
            ],
            "image/png": "[encoded data removed]"
          },
          "metadata": {
            "image/png": {
              "width": 420,
              "height": 420
            }
          }
        }
      ]
    },
    {
      "cell_type": "markdown",
      "source": [
        "###Visualizing work Limitations Across Health Conditions"
      ],
      "metadata": {
        "id": "O60SOaaNrKce"
      }
    },
    {
      "cell_type": "code",
      "source": [
        "plot_WL <- ggplot(WL, aes(x = Condition, y = mean, fill = Condition)) +\n",
        "  geom_bar(stat = \"identity\", position = \"dodge\", width = 0.7) +\n",
        "  geom_text(aes(label = sprintf(\"%.2f%%\", mean)), vjust = -0.5) +\n",
        "  scale_fill_manual(values = c(\"#404343\", \"#000782\", \"#000101\", \"#BDC4CE\")) +\n",
        "  scale_y_continuous(labels = scales::percent_format(scale = 1), limits = c(0, 100)) +\n",
        "  labs(title = \"Work Limited Due to Health Problems\", x = \"Condition\", y = \"Prevalence (%)\") +\n",
        "  theme_minimal(base_size = 15) +\n",
        "  theme(\n",
        "    plot.title = element_text(size = 16, face = \"bold\", hjust = 0.5),\n",
        "    axis.title.x = element_text(size = 14),\n",
        "    axis.title.y = element_text(size = 14),\n",
        "    axis.text.x = element_text(size = 12, angle = 45, hjust = 1),\n",
        "    axis.text.y = element_text(size = 12),\n",
        "    legend.title = element_blank(),\n",
        "    legend.text = element_text(size = 12),\n",
        "    legend.position = \"top\",\n",
        "    panel.grid.major = element_blank(),\n",
        "    panel.grid.minor = element_blank()\n",
        "  )\n",
        "  plot_WL"
      ],
      "metadata": {
        "id": "aCXJzhLNoAab",
        "colab": {
          "base_uri": "https://localhost:8080/",
          "height": 437
        },
        "outputId": "39f52b05-fa00-4662-af40-41c65af7e740"
      },
      "execution_count": 68,
      "outputs": [
        {
          "output_type": "display_data",
          "data": {
            "text/plain": [
              "plot without title"
            ],
            "image/png": "[encoded data removed]"
          },
          "metadata": {
            "image/png": {
              "width": 420,
              "height": 420
            }
          }
        }
      ]
    },
    {
      "cell_type": "markdown",
      "source": [
        "###Visualizing the general poor health Across Health Conditions"
      ],
      "metadata": {
        "id": "NM-w5VDFrz1A"
      }
    },
    {
      "cell_type": "code",
      "source": [
        "Helth.plt <- ggplot(Helth.ds, aes(x = Condition, y = mean, fill = Condition)) +\n",
        "  geom_bar(stat = \"identity\", position = \"dodge\", width = 0.7) +\n",
        "  geom_text(aes(label = sprintf(\"%.2f%%\", mean)), vjust = -0.5) +\n",
        "  scale_fill_manual(values = c(\"#404343\", \"#000782\", \"#000101\", \"#BDC4CE\")) +\n",
        "  scale_y_continuous(labels = scales::percent_format(scale = 1), limits = c(0, 100)) +\n",
        "  labs(title = \"Reporting poor health\", x = \"Condition\", y = \"Prevalence (%)\") +\n",
        "  theme_minimal(base_size = 15) +\n",
        "  theme(\n",
        "    plot.title = element_text(size = 16, face = \"bold\", hjust = 0.5),\n",
        "    axis.title.x = element_text(size = 14),\n",
        "    axis.title.y = element_text(size = 14),\n",
        "    axis.text.x = element_text(size = 12, angle = 45, hjust = 1),\n",
        "    axis.text.y = element_text(size = 12),\n",
        "    legend.title = element_blank(),\n",
        "    legend.text = element_text(size = 12),\n",
        "    legend.position = \"top\",\n",
        "    panel.grid.major = element_blank(),\n",
        "    panel.grid.minor = element_blank()\n",
        "  )\n",
        "Helth.plt"
      ],
      "metadata": {
        "id": "dOTzPn3-OLru",
        "colab": {
          "base_uri": "https://localhost:8080/",
          "height": 437
        },
        "outputId": "7a73caf4-18a3-49b8-ec22-ccb35d6c3bd7"
      },
      "execution_count": 69,
      "outputs": [
        {
          "output_type": "display_data",
          "data": {
            "text/plain": [
              "plot without title"
            ],
            "image/png": "[encoded data removed]"
          },
          "metadata": {
            "image/png": {
              "width": 420,
              "height": 420
            }
          }
        }
      ]
    },
    {
      "cell_type": "markdown",
      "source": [
        "###Visualizing overngits hospital visit Across Health Conditions"
      ],
      "metadata": {
        "id": "bGKpczRar8aJ"
      }
    },
    {
      "cell_type": "code",
      "source": [
        "Overnight.plt <- ggplot(Overnight.ds, aes(x = Condition, y = mean, fill = Condition)) +\n",
        "  geom_bar(stat = \"identity\", position = \"dodge\", width = 0.7) +\n",
        "  geom_text(aes(label = sprintf(\"%.2f%%\", mean)), vjust = -0.5) +\n",
        "  scale_fill_manual(values = c(\"#404343\", \"#000782\", \"#000101\", \"#BDC4CE\")) +\n",
        "  scale_y_continuous(labels = scales::percent_format(scale = 1), limits = c(0, 100)) +\n",
        "  labs(title = \"overnight visit\", x = \"Condition\", y = \"Prevalence (%)\") +\n",
        "  theme_minimal(base_size = 15) +\n",
        "  theme(\n",
        "    plot.title = element_text(size = 16, face = \"bold\", hjust = 0.5),\n",
        "    axis.title.x = element_text(size = 14),\n",
        "    axis.title.y = element_text(size = 14),\n",
        "    axis.text.x = element_text(size = 12, angle = 45, hjust = 1),\n",
        "    axis.text.y = element_text(size = 12),\n",
        "    legend.title = element_blank(),\n",
        "    legend.text = element_text(size = 12),\n",
        "    legend.position = \"top\",\n",
        "    panel.grid.major = element_blank(),\n",
        "    panel.grid.minor = element_blank()\n",
        "  )\n",
        "Overnight.plt"
      ],
      "metadata": {
        "id": "VQ7E8oh9PAl5",
        "colab": {
          "base_uri": "https://localhost:8080/",
          "height": 437
        },
        "outputId": "0957427d-8dd1-4dff-d35e-22c0ed1dcbb9"
      },
      "execution_count": 70,
      "outputs": [
        {
          "output_type": "display_data",
          "data": {
            "text/plain": [
              "plot without title"
            ],
            "image/png": "[encoded data removed]"
          },
          "metadata": {
            "image/png": {
              "width": 420,
              "height": 420
            }
          }
        }
      ]
    },
    {
      "cell_type": "markdown",
      "source": [
        "##Visualization of Functional Limitations by Health Condition\n"
      ],
      "metadata": {
        "id": "gJxXZZYfsuTf"
      }
    },
    {
      "cell_type": "code",
      "source": [
        "# Load necessary libraries\n",
        "library(ggplot2)\n",
        "library(dplyr)  # Assuming dplyr is needed for data manipulation\n",
        "library(stringr)\n",
        "\n",
        "# # Combine data into a single data frame\n",
        "combined_data <- bind_rows(\n",
        "  SL %>% mutate(Type = \"Difficulty participating in social activity\"),\n",
        "  EL %>% mutate(Type = \"Difficulty doing errands alone\"),\n",
        "  WL %>% mutate(Type = \"Work limited due to health problems\"),\n",
        "  Helth.ds %>% mutate(Type = \"Reporting poor general health\"),\n",
        "  Overnight.ds %>% mutate(Type = \"Reporting overnight visit\"),\n",
        ")\n",
        "# Function to wrap text\n",
        "wrap_text <- function(text, width = 20) {\n",
        "  str_wrap(text, width = width)\n",
        "}\n",
        "# Create the bar plot\n",
        "plot <- ggplot(combined_data, aes(x = Type, y = mean, fill = Condition)) +\n",
        "  geom_bar(stat = \"identity\", position = position_dodge(width = 0.8), width = 0.6) +\n",
        "  geom_text(aes(label = paste0(mean, \"%\")),\n",
        "            position = position_dodge(width = 0.8),\n",
        "            vjust = -0.8,\n",
        "            size = 4) +\n",
        "  labs(\n",
        "   x = NULL,  # Remove x-axis label\n",
        "    y = \"Prevalence (%)\"\n",
        "  ) +\n",
        "  scale_fill_manual(values = c(\"#404343\", \"#000782\", \"#000101\", \"#BDC4CE\"),  labels = c(\n",
        "      \"A/D Only\" = \"A/D only\",\n",
        "      \"Chronic Pain Only\" = \"pain only\",\n",
        "      \"Both\" = \"co-occurring\",\n",
        "      \"Neither\" = \"Neither\"\n",
        "    )) +\n",
        "  scale_y_continuous(labels = scales::percent_format(scale = 1), limits = c(0, 60)) +\n",
        "  theme_minimal(base_size = 15) +\n",
        "  theme(\n",
        "    plot.title = element_text(size = 16, face = \"bold\", hjust = 0.5),\n",
        "    axis.title.x = element_text(size = 14),\n",
        "    axis.title.y = element_text(size = 14),\n",
        "    axis.text.x = element_text(size = 14, color = \"black\"),  # Set color to black\n",
        "    axis.text.y = element_text(size = 14, color = \"black\"),  # Set y-axis labels color to black\n",
        "    legend.title = element_blank(),  # Remove the legend title\n",
        "    legend.text = element_text(size = 18),\n",
        "    legend.key.size = unit(1.5, \"lines\"),  # Increase the size of the legend keys\n",
        "    strip.text = element_text(size = 14, color = \"black\"),  # Change facet labels color to black\n",
        "    legend.position = \"top\",\n",
        "    panel.grid.major = element_blank(),\n",
        "    panel.grid.minor = element_blank()\n",
        "  )+\n",
        "  scale_x_discrete(labels = wrap_text)  # Wrap x-axis labels\n",
        "\n",
        "# Save the plot with a 16:9 aspect ratio\n",
        "ggsave(\"combined_conditions_plot.png\", plot, width = 24, height = 9, units = \"in\", dpi = 300)\n"
      ],
      "metadata": {
        "id": "3_mZaSj0sD5V"
      },
      "execution_count": 73,
      "outputs": []
    }
  ],
  "metadata": {
    "accelerator": "GPU",
    "colab": {
      "gpuType": "T4",
      "provenance": []
    },
    "kernelspec": {
      "display_name": "R",
      "name": "ir"
    },
    "language_info": {
      "name": "R"
    }
  },
  "nbformat": 4,
  "nbformat_minor": 0
}